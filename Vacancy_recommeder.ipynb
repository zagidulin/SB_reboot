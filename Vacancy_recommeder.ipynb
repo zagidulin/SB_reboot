{
 "cells": [
  {
   "cell_type": "code",
   "execution_count": 1,
   "metadata": {},
   "outputs": [],
   "source": [
    "import requests\n",
    "import time\n",
    "import pandas as pd\n",
    "import numpy as np\n",
    "import re\n",
    "import pymorphy2\n",
    "import nltk\n",
    "from nltk.corpus import stopwords\n",
    "from sklearn.feature_extraction.text import TfidfVectorizer, CountVectorizer\n",
    "from sklearn.metrics.pairwise import cosine_similarity\n",
    "from gensim.models.doc2vec import Doc2Vec, TaggedDocument\n",
    "from nltk.tokenize import word_tokenize\n",
    "from sentence_transformers import SentenceTransformer"
   ]
  },
  {
   "cell_type": "markdown",
   "metadata": {},
   "source": [
    "# ПАРСИНГ ВАКАНСИЙ"
   ]
  },
  {
   "cell_type": "code",
   "execution_count": 2,
   "metadata": {},
   "outputs": [],
   "source": [
    "# url с перечнем специализаций на hh\n",
    "url = 'https://api.hh.ru/specializations'"
   ]
  },
  {
   "cell_type": "code",
   "execution_count": 3,
   "metadata": {},
   "outputs": [],
   "source": [
    "# направить запрос и получить специализации\n",
    "res = requests.get(url)\n",
    "specializations = res.json()\n",
    "# создать список id специализаций для обхода ограничения HH в выдаче 2000 items в списке\n",
    "specialization_ids = []\n",
    "for i in specializations:\n",
    "    for j in i['specializations']:\n",
    "        specialization_ids.append(j['id'])"
   ]
  },
  {
   "cell_type": "code",
   "execution_count": 4,
   "metadata": {},
   "outputs": [],
   "source": [
    "# создать список id специализаций для обхода ограничения HH в выдаче 2000 items в списке\n",
    "specialization_ids = []\n",
    "for i in specializations:\n",
    "    for j in i['specializations']:\n",
    "        specialization_ids.append(j['id'])"
   ]
  },
  {
   "cell_type": "code",
   "execution_count": 5,
   "metadata": {},
   "outputs": [],
   "source": [
    "# параматры для запроса вакансий\n",
    "sber = '3529'\n",
    "page = 1\n",
    "num_per_page = 100"
   ]
  },
  {
   "cell_type": "code",
   "execution_count": 6,
   "metadata": {},
   "outputs": [],
   "source": [
    "# получить id вакансий для каждой из специализаций по очереди\n",
    "all_vacancy_ids = []\n",
    "for i in specialization_ids:\n",
    "    url = f'https://api.hh.ru/vacancies?employer_id={sber}&page={page}&per_page={num_per_page}&specialization={i}'\n",
    "    res = requests.get(url)\n",
    "    vacancies = res.json()\n",
    "    if vacancies.get('found') == 0:\n",
    "        continue\n",
    "    for j in range(vacancies.get('pages')):\n",
    "        url = f'https://api.hh.ru/vacancies?employer_id={sber}&page={j}&per_page={num_per_page}&specialization={i}'\n",
    "        res = requests.get(url)\n",
    "        vacancies = res.json()\n",
    "        vacancy_ids = [el.get('id') for el in vacancies.get('items')]\n",
    "        all_vacancy_ids.extend(vacancy_ids)\n",
    "        time.sleep(0.2)"
   ]
  },
  {
   "cell_type": "code",
   "execution_count": 11,
   "metadata": {},
   "outputs": [
    {
     "data": {
      "text/plain": [
       "5663"
      ]
     },
     "execution_count": 11,
     "metadata": {},
     "output_type": "execute_result"
    }
   ],
   "source": [
    "# избавиться от дублей (вакансии в нескольких специализациях)\n",
    "all_vacancy_ids = list(set(all_vacancy_ids))\n",
    "len(all_vacancy_ids)"
   ]
  },
  {
   "cell_type": "code",
   "execution_count": 12,
   "metadata": {},
   "outputs": [],
   "source": [
    "# список ключей, которые запрашивать из данных HH по вакансии\n",
    "keys = [\"id\", \"name\", \"area\", \"salary\", \"experience\", \"schedule\",\n",
    "        \"employment\", \"department\", \"description\", \"key_skills\",\n",
    "        \"specializations\", \"published_at\", \"created_at\", \"alternate_url\"]\n",
    "# Сздать ДФ для наполнения его полученными данными\n",
    "vacancy_df = pd.DataFrame(columns=keys)"
   ]
  },
  {
   "cell_type": "code",
   "execution_count": 13,
   "metadata": {},
   "outputs": [],
   "source": [
    "# парсинг данных по найденным id вакансий\n",
    "for vac_id in all_vacancy_ids:\n",
    "    url = f'https://api.hh.ru/vacancies/{vac_id}'\n",
    "    res = requests.get(url)\n",
    "    vacancy = res.json()\n",
    "    new_row = {}\n",
    "    for key in keys:            \n",
    "        if isinstance(vacancy[key], dict):\n",
    "            if key == 'salary':\n",
    "                    new_row[key] = vacancy[key]['from']\n",
    "            else:\n",
    "                new_row[key] = vacancy[key]['name']                \n",
    "        elif vacancy[key] and isinstance(vacancy[key], list):\n",
    "            arr = []\n",
    "            for i in vacancy[key]:\n",
    "                if isinstance(i, dict):\n",
    "                    arr.append((i['name']))\n",
    "                else:\n",
    "                    arr.append(i)\n",
    "            new_row[key] = arr\n",
    "        elif vacancy[key]:\n",
    "            new_row[key] = vacancy[key]\n",
    "#     добавить инфо по вакансии в ДФ\n",
    "    vacancy_df = vacancy_df.append(new_row, ignore_index=True)\n",
    "    time.sleep(0.15)"
   ]
  },
  {
   "cell_type": "code",
   "execution_count": 14,
   "metadata": {},
   "outputs": [],
   "source": [
    "# Записать полученный ДФ в файл\n",
    "vacancy_df.to_csv('data_0402.csv')"
   ]
  },
  {
   "cell_type": "markdown",
   "metadata": {},
   "source": [
    "# Предобработка данных"
   ]
  },
  {
   "cell_type": "code",
   "execution_count": 17,
   "metadata": {},
   "outputs": [],
   "source": [
    "df = pd.read_csv('data_0402.csv')"
   ]
  },
  {
   "cell_type": "code",
   "execution_count": 18,
   "metadata": {},
   "outputs": [],
   "source": [
    "# перевести даты создания и публикации в datetime\n",
    "df['created_at'] = pd.to_datetime(df['created_at'])\n",
    "df['published_at'] = pd.to_datetime(df['published_at'])"
   ]
  },
  {
   "cell_type": "code",
   "execution_count": 19,
   "metadata": {},
   "outputs": [
    {
     "data": {
      "text/plain": [
       "5646"
      ]
     },
     "execution_count": 19,
     "metadata": {},
     "output_type": "execute_result"
    }
   ],
   "source": [
    "# удалить  тэги из описаний\n",
    "pattern = r'</*[a-z]+>'\n",
    "df.description = df.description.apply(lambda x: re.sub(pattern, ' ', x))\n",
    "\n",
    "# удалить лишние пробелы\n",
    "pattern = r'\\s{1}\\s+'\n",
    "df.description = df.description.apply(lambda x: re.sub(pattern, ' ', x))\n",
    "\n",
    "# заменить \"ё\" на \"е\"\n",
    "pattern = r'[Ёё]'\n",
    "df.description = df.description.apply(lambda x: re.sub(pattern, 'е', x))\n",
    "\n",
    "# заменить ошибочную английскую 'c' в начале слов на русскую 'с'\n",
    "pattern = r'(c)([а-я]{2,})'\n",
    "df.description = df.description.apply(lambda x: re.sub(pattern, r'с\\2', x))\n",
    "# заменить ошибочную русскую 'с' на английскую 'c' в начале слов \n",
    "pattern = r'(с)([a-z]{2,})'\n",
    "df.description = df.description.apply(lambda x: re.sub(pattern, r'c\\2', x))\n",
    "\n",
    "# исключить вакансии на английском\n",
    "pattern = r'[^А-Яа-я]+\\s+[^А-Яа-я]+\\s+[^А-Яа-я]+\\s+[^А-Яа-я]+\\s+[^А-Яа-я]+\\s+[^А-Яа-я]+[^А-Яа-я]+\\s+[^А-Яа-я]'\n",
    "for i in df.index.values:\n",
    "    eng = re.match(pattern, df.loc[i, 'description'])\n",
    "    if eng is not None:\n",
    "        df.drop(i, inplace=True)\n",
    "len(df)"
   ]
  },
  {
   "cell_type": "markdown",
   "metadata": {},
   "source": [
    "## Нормализация описаний вакансий"
   ]
  },
  {
   "cell_type": "markdown",
   "metadata": {},
   "source": [
    "- Очистка от знаков препинания\n",
    "- Избавление от словоформ"
   ]
  },
  {
   "cell_type": "code",
   "execution_count": 20,
   "metadata": {},
   "outputs": [],
   "source": [
    "# функция удаления знаков пунктуации\n",
    "def punc_clean(string):\n",
    "    '''Функция ощищает текст от знаков пунктуации'''\n",
    "    pattern = r'[^А-Яа-яA-Za-z0-9+#]+'\n",
    "    try:\n",
    "      string = re.sub(pattern, ' ', string)\n",
    "    except Exception as e:\n",
    "      print(e)\n",
    "    return string"
   ]
  },
  {
   "cell_type": "code",
   "execution_count": 21,
   "metadata": {},
   "outputs": [],
   "source": [
    "morph = pymorphy2.MorphAnalyzer()\n",
    "\n",
    "# функция лемматизации\n",
    "def lemmatize(data, col=None):\n",
    "    '''Функция приведения слов к начальной форме'''\n",
    "    t = []\n",
    "    if type(data) == pd.core.series.Series:\n",
    "        text = data[col]\n",
    "    else:\n",
    "        text = data\n",
    "    for word in text.split():\n",
    "        if len(word)<=3:\n",
    "            continue\n",
    "        p = morph.parse(word)[0]\n",
    "        t.append(p.normal_form)\n",
    "    return \" \".join(t)"
   ]
  },
  {
   "cell_type": "code",
   "execution_count": 22,
   "metadata": {},
   "outputs": [],
   "source": [
    "def preprocess(desription):\n",
    "    desription = punc_clean(desription)\n",
    "    desription = lemmatize(desription)\n",
    "    return desription"
   ]
  },
  {
   "cell_type": "code",
   "execution_count": 23,
   "metadata": {},
   "outputs": [],
   "source": [
    "df['desc_normal'] = df.description.apply(preprocess)"
   ]
  },
  {
   "cell_type": "markdown",
   "metadata": {},
   "source": [
    "Создание списка стоп-слов"
   ]
  },
  {
   "cell_type": "code",
   "execution_count": 25,
   "metadata": {},
   "outputs": [
    {
     "name": "stderr",
     "output_type": "stream",
     "text": [
      "[nltk_data] Downloading package stopwords to\n",
      "[nltk_data]     C:\\Users\\Artur\\AppData\\Roaming\\nltk_data...\n",
      "[nltk_data]   Package stopwords is already up-to-date!\n"
     ]
    },
    {
     "data": {
      "text/plain": [
       "True"
      ]
     },
     "execution_count": 25,
     "metadata": {},
     "output_type": "execute_result"
    }
   ],
   "source": [
    "# стоп слова\n",
    "nltk.download('stopwords')"
   ]
  },
  {
   "cell_type": "code",
   "execution_count": 26,
   "metadata": {},
   "outputs": [],
   "source": [
    "# расширение списка стоп-слов\n",
    "stop_words_ru = stopwords.words('russian')\n",
    "stop_words_ru.extend(['вакансия', 'каждый', 'который', 'команда', 'любой', 'наш', 'самый', 'сбер', 'сбербанк', 'сберпрайм', 'сберпрайм+', 'сбербизнес', 'свой', 'экосистема', 'подразделение', 'интересный', 'работодатель', 'хороший', 'откликнуться', 'детский', 'родитель', 'предлагать', 'профессиональный', 'библиотека', 'жизнь', 'гибкий', 'график', 'оптимальный', 'баланс', 'работа', 'личный', 'жизнь', 'конкурентный', 'компенсация', 'оклад', 'премия', 'результат', 'деятельность', 'труд', 'белый', 'заработный', 'плата', 'стандартный', 'возможно', 'смещение', 'ранний', 'поздний', 'медицинский', 'страховка', 'родственник', 'комфортный', 'офис', 'столовая', 'широкий', 'спектр', 'дисконт', 'привилегия', 'эффективный', 'трудоустройство', 'согласно', 'гарантировать', 'доход', 'плюс', 'премиальный', 'работать', 'рядом', 'дом', 'место', 'учёба', 'регулярный', 'несчастный', 'случай', 'тяжёлый', 'заболевание', 'помощь', 'социальный', 'кредитование', 'яркий', 'насыщенный', 'ждать', 'строить', 'счастливый', 'будущее', 'вместе', 'мечтать', 'дружный', 'начать', 'карьера', 'крупный', 'банк', 'россия', 'кредитный', 'машина', 'ключевой', 'предлагать', 'современный', 'вблизи', 'москва', 'сити', 'фитнес', 'залом', 'бесплатный', 'подземный', 'паркинг', 'минута', 'метро', 'позитивный', 'зарядить'])\n",
    "string = 'подготовить ты ипотека выгодный каждый сотрудник льготный условие первый льготный страхование близкий бесплатный подписка сберпрайм+ скидка продукт компания партнёр okko сбер маркет delivery club самокат ситимобила сбер еаптека другой обучение счёт компания онлайн курс виртуальный школа возможность получить новый квалификация курс будущий родитель материальный поддержка молодой детский отдых подарок счёт компания реферальный программа сотрудник можно пригласить команда знакомый профессионал получить вознаграждение рубль корпоративный пенсионный программа интересный вакансия откликнуться записать видеоинтервью ссылка письмо любой удобный устройство пройти собеседование'\n",
    "string = string.split()\n",
    "stop_words_ru.extend(string)\n",
    "stop_words_ru = list(set(stop_words_ru))"
   ]
  },
  {
   "cell_type": "code",
   "execution_count": 27,
   "metadata": {},
   "outputs": [],
   "source": [
    "# описание опыта из резюме\n",
    "expirience = '''Консультирование и продажа банковских продуктов: открытие вкладов, кредитов, кредитных и дебетовых карт, \\\n",
    "подключение автоплатежей, продажа инвестиционных продуктов, переводы и т.д.'''"
   ]
  },
  {
   "cell_type": "markdown",
   "metadata": {},
   "source": [
    "Предобработка опыта"
   ]
  },
  {
   "cell_type": "code",
   "execution_count": 28,
   "metadata": {},
   "outputs": [],
   "source": [
    "expirience = preprocess(expirience)"
   ]
  },
  {
   "cell_type": "markdown",
   "metadata": {},
   "source": [
    "## 2. ТОКЕНИЗАЦИЯ И ВЕКТОРИЗАЦИЯ"
   ]
  },
  {
   "cell_type": "markdown",
   "metadata": {},
   "source": [
    "### МЕТОД 1. Граф векторизатор"
   ]
  },
  {
   "cell_type": "code",
   "execution_count": 29,
   "metadata": {},
   "outputs": [],
   "source": [
    "vec_CV = CountVectorizer(stop_words=stop_words_ru, min_df=0.002)"
   ]
  },
  {
   "cell_type": "code",
   "execution_count": 30,
   "metadata": {},
   "outputs": [],
   "source": [
    "desc_vectors_CV = vec_CV.fit_transform(df['desc_normal'])"
   ]
  },
  {
   "cell_type": "code",
   "execution_count": 31,
   "metadata": {},
   "outputs": [
    {
     "name": "stdout",
     "output_type": "stream",
     "text": [
      "Vocabulary length: 3230\n"
     ]
    }
   ],
   "source": [
    "print('Vocabulary length:', len(vec_CV.get_feature_names()))"
   ]
  },
  {
   "cell_type": "markdown",
   "metadata": {},
   "source": [
    "Добавление в DF векторных представлений описаний"
   ]
  },
  {
   "cell_type": "code",
   "execution_count": 32,
   "metadata": {},
   "outputs": [],
   "source": [
    "df['CV_vector'] = list(desc_vectors_CV.toarray())"
   ]
  },
  {
   "cell_type": "markdown",
   "metadata": {},
   "source": [
    "Векторизация опыта из резюме"
   ]
  },
  {
   "cell_type": "code",
   "execution_count": 33,
   "metadata": {},
   "outputs": [],
   "source": [
    "# для токенизации применяем словарь эмбеддинга\n",
    "vec_exp = CountVectorizer(stop_words=stop_words_ru, vocabulary=vec_CV.get_feature_names())\n",
    "exp_vector_CV = vec_exp.fit_transform([expirience])"
   ]
  },
  {
   "cell_type": "markdown",
   "metadata": {},
   "source": [
    "Определение косинусного сходства опыта с описаниями вакансий"
   ]
  },
  {
   "cell_type": "code",
   "execution_count": 34,
   "metadata": {},
   "outputs": [],
   "source": [
    "# функция для определения косинусного сходства\n",
    "def cosine_sim_vectors(vec1, vec2):\n",
    "    '''Функция для определения косинусной меры сходства'''\n",
    "    return cosine_similarity([vec1, vec2])[1][0]"
   ]
  },
  {
   "cell_type": "code",
   "execution_count": 35,
   "metadata": {},
   "outputs": [],
   "source": [
    "df['CV_cosine'] = df['CV_vector'].apply(cosine_sim_vectors, vec2=exp_vector_CV.toarray()[0])"
   ]
  },
  {
   "cell_type": "code",
   "execution_count": null,
   "metadata": {},
   "outputs": [],
   "source": [
    "top_10_CV = df.sort_values(by='CV_cosine', ascending=False).head(10)\n",
    "top_10_CV[[\"name\", \"description\", \"specializations\"]]"
   ]
  },
  {
   "cell_type": "code",
   "execution_count": 36,
   "metadata": {},
   "outputs": [
    {
     "data": {
      "text/html": [
       "<div>\n",
       "<style scoped>\n",
       "    .dataframe tbody tr th:only-of-type {\n",
       "        vertical-align: middle;\n",
       "    }\n",
       "\n",
       "    .dataframe tbody tr th {\n",
       "        vertical-align: top;\n",
       "    }\n",
       "\n",
       "    .dataframe thead th {\n",
       "        text-align: right;\n",
       "    }\n",
       "</style>\n",
       "<table border=\"1\" class=\"dataframe\">\n",
       "  <thead>\n",
       "    <tr style=\"text-align: right;\">\n",
       "      <th></th>\n",
       "      <th>name</th>\n",
       "      <th>description</th>\n",
       "      <th>specializations</th>\n",
       "    </tr>\n",
       "  </thead>\n",
       "  <tbody>\n",
       "    <tr>\n",
       "      <th>3941</th>\n",
       "      <td>Консультант по работе с пенсионным фондом</td>\n",
       "      <td>Обязанности: Открытие (продажа) банковских ка...</td>\n",
       "      <td>['Страхование жизни', 'Автострахование', 'Пере...</td>\n",
       "    </tr>\n",
       "    <tr>\n",
       "      <th>3330</th>\n",
       "      <td>Инвестиционный менеджер (канал Сбербанк Первый)</td>\n",
       "      <td>Тебе предстоит: осуществление кураторства зак...</td>\n",
       "      <td>['Инвестиционная компания', 'Прямые инвестиции...</td>\n",
       "    </tr>\n",
       "    <tr>\n",
       "      <th>4810</th>\n",
       "      <td>Региональный менеджер внешней дистрибуции</td>\n",
       "      <td>Обязанности: организация процесса продаж для ...</td>\n",
       "      <td>['Прямые продажи', 'Оптовая торговля', 'Менедж...</td>\n",
       "    </tr>\n",
       "    <tr>\n",
       "      <th>986</th>\n",
       "      <td>Руководитель Премьер офиса</td>\n",
       "      <td>Обязанности: организация работы ВИП офиса в с...</td>\n",
       "      <td>['Розничная торговля', 'Прямые продажи', 'Мене...</td>\n",
       "    </tr>\n",
       "    <tr>\n",
       "      <th>757</th>\n",
       "      <td>Руководитель Премьер офиса</td>\n",
       "      <td>Обязанности: организация работы ВИП офиса в с...</td>\n",
       "      <td>['Розничная торговля', 'Прямые продажи', 'Мене...</td>\n",
       "    </tr>\n",
       "    <tr>\n",
       "      <th>5504</th>\n",
       "      <td>Менеджер по продажам продуктов ВЭД</td>\n",
       "      <td>Продажи продуктов ВЭД Обязанности : продажа п...</td>\n",
       "      <td>['Прямые продажи', 'Оптовая торговля', 'Менедж...</td>\n",
       "    </tr>\n",
       "    <tr>\n",
       "      <th>5418</th>\n",
       "      <td>Менеджер поддержки продаж</td>\n",
       "      <td>Обязанности: консультирование по банковским п...</td>\n",
       "      <td>['Привлечение клиентов', 'Кредиты', 'Продажа ф...</td>\n",
       "    </tr>\n",
       "    <tr>\n",
       "      <th>3963</th>\n",
       "      <td>Финансовый советник</td>\n",
       "      <td>привлечение состоятельных Клиентов в канал Сб...</td>\n",
       "      <td>['Методология, Банковские технологии', 'Разраб...</td>\n",
       "    </tr>\n",
       "    <tr>\n",
       "      <th>5055</th>\n",
       "      <td>Консультант по работе с ПФР</td>\n",
       "      <td>Обязанности: Проведение презентаций по продаж...</td>\n",
       "      <td>['Привлечение клиентов', 'Кредиты', 'Продажа ф...</td>\n",
       "    </tr>\n",
       "    <tr>\n",
       "      <th>3739</th>\n",
       "      <td>Консультант по работе с ПФР</td>\n",
       "      <td>Обязанности: Проведение презентаций по продаж...</td>\n",
       "      <td>['Привлечение клиентов', 'Кредиты', 'Продажа ф...</td>\n",
       "    </tr>\n",
       "  </tbody>\n",
       "</table>\n",
       "</div>"
      ],
      "text/plain": [
       "                                                 name  \\\n",
       "3941        Консультант по работе с пенсионным фондом   \n",
       "3330  Инвестиционный менеджер (канал Сбербанк Первый)   \n",
       "4810        Региональный менеджер внешней дистрибуции   \n",
       "986                        Руководитель Премьер офиса   \n",
       "757                        Руководитель Премьер офиса   \n",
       "5504               Менеджер по продажам продуктов ВЭД   \n",
       "5418                        Менеджер поддержки продаж   \n",
       "3963                              Финансовый советник   \n",
       "5055                      Консультант по работе с ПФР   \n",
       "3739                      Консультант по работе с ПФР   \n",
       "\n",
       "                                            description  \\\n",
       "3941   Обязанности: Открытие (продажа) банковских ка...   \n",
       "3330   Тебе предстоит: осуществление кураторства зак...   \n",
       "4810   Обязанности: организация процесса продаж для ...   \n",
       "986    Обязанности: организация работы ВИП офиса в с...   \n",
       "757    Обязанности: организация работы ВИП офиса в с...   \n",
       "5504   Продажи продуктов ВЭД Обязанности : продажа п...   \n",
       "5418   Обязанности: консультирование по банковским п...   \n",
       "3963   привлечение состоятельных Клиентов в канал Сб...   \n",
       "5055   Обязанности: Проведение презентаций по продаж...   \n",
       "3739   Обязанности: Проведение презентаций по продаж...   \n",
       "\n",
       "                                        specializations  \n",
       "3941  ['Страхование жизни', 'Автострахование', 'Пере...  \n",
       "3330  ['Инвестиционная компания', 'Прямые инвестиции...  \n",
       "4810  ['Прямые продажи', 'Оптовая торговля', 'Менедж...  \n",
       "986   ['Розничная торговля', 'Прямые продажи', 'Мене...  \n",
       "757   ['Розничная торговля', 'Прямые продажи', 'Мене...  \n",
       "5504  ['Прямые продажи', 'Оптовая торговля', 'Менедж...  \n",
       "5418  ['Привлечение клиентов', 'Кредиты', 'Продажа ф...  \n",
       "3963  ['Методология, Банковские технологии', 'Разраб...  \n",
       "5055  ['Привлечение клиентов', 'Кредиты', 'Продажа ф...  \n",
       "3739  ['Привлечение клиентов', 'Кредиты', 'Продажа ф...  "
      ]
     },
     "execution_count": 36,
     "metadata": {},
     "output_type": "execute_result"
    }
   ],
   "source": [
    "top_10_CV = df.sort_values(by='CV_cosine', ascending=False).head(10)\n",
    "top_10_CV[[\"name\", \"description\", \"specializations\"]]"
   ]
  },
  {
   "cell_type": "markdown",
   "metadata": {},
   "source": [
    "### МЕТОД 2. TfidfVectorizer"
   ]
  },
  {
   "cell_type": "code",
   "execution_count": 37,
   "metadata": {},
   "outputs": [],
   "source": [
    "vec_tfidf = TfidfVectorizer(stop_words=stop_words_ru, min_df=0.002)"
   ]
  },
  {
   "cell_type": "code",
   "execution_count": 38,
   "metadata": {},
   "outputs": [],
   "source": [
    "desc_vectors_tfidf = vec_tfidf.fit_transform(df['desc_normal'])"
   ]
  },
  {
   "cell_type": "code",
   "execution_count": 39,
   "metadata": {},
   "outputs": [],
   "source": [
    "df['TfIdf_vector'] = list(desc_vectors_tfidf.toarray())"
   ]
  },
  {
   "cell_type": "code",
   "execution_count": 41,
   "metadata": {},
   "outputs": [],
   "source": [
    "# токенизация описания опыта\n",
    "vec_exp_tfidf = TfidfVectorizer(stop_words=stop_words_ru, vocabulary=vec_tfidf.get_feature_names())\n",
    "# токенизация описания опыта\n",
    "exp_vector_tfidf = vec_exp_tfidf.fit_transform([expirience])"
   ]
  },
  {
   "cell_type": "code",
   "execution_count": 42,
   "metadata": {},
   "outputs": [],
   "source": [
    "df['TfIdf_cosine'] = df['TfIdf_vector'].apply(cosine_sim_vectors, vec2=exp_vector_tfidf.toarray()[0])"
   ]
  },
  {
   "cell_type": "code",
   "execution_count": 43,
   "metadata": {},
   "outputs": [
    {
     "data": {
      "text/html": [
       "<div>\n",
       "<style scoped>\n",
       "    .dataframe tbody tr th:only-of-type {\n",
       "        vertical-align: middle;\n",
       "    }\n",
       "\n",
       "    .dataframe tbody tr th {\n",
       "        vertical-align: top;\n",
       "    }\n",
       "\n",
       "    .dataframe thead th {\n",
       "        text-align: right;\n",
       "    }\n",
       "</style>\n",
       "<table border=\"1\" class=\"dataframe\">\n",
       "  <thead>\n",
       "    <tr style=\"text-align: right;\">\n",
       "      <th></th>\n",
       "      <th>name</th>\n",
       "      <th>description</th>\n",
       "      <th>specializations</th>\n",
       "    </tr>\n",
       "  </thead>\n",
       "  <tbody>\n",
       "    <tr>\n",
       "      <th>3941</th>\n",
       "      <td>Консультант по работе с пенсионным фондом</td>\n",
       "      <td>Обязанности: Открытие (продажа) банковских ка...</td>\n",
       "      <td>['Страхование жизни', 'Автострахование', 'Пере...</td>\n",
       "    </tr>\n",
       "    <tr>\n",
       "      <th>4810</th>\n",
       "      <td>Региональный менеджер внешней дистрибуции</td>\n",
       "      <td>Обязанности: организация процесса продаж для ...</td>\n",
       "      <td>['Прямые продажи', 'Оптовая торговля', 'Менедж...</td>\n",
       "    </tr>\n",
       "    <tr>\n",
       "      <th>757</th>\n",
       "      <td>Руководитель Премьер офиса</td>\n",
       "      <td>Обязанности: организация работы ВИП офиса в с...</td>\n",
       "      <td>['Розничная торговля', 'Прямые продажи', 'Мене...</td>\n",
       "    </tr>\n",
       "    <tr>\n",
       "      <th>986</th>\n",
       "      <td>Руководитель Премьер офиса</td>\n",
       "      <td>Обязанности: организация работы ВИП офиса в с...</td>\n",
       "      <td>['Розничная торговля', 'Прямые продажи', 'Мене...</td>\n",
       "    </tr>\n",
       "    <tr>\n",
       "      <th>5418</th>\n",
       "      <td>Менеджер поддержки продаж</td>\n",
       "      <td>Обязанности: консультирование по банковским п...</td>\n",
       "      <td>['Привлечение клиентов', 'Кредиты', 'Продажа ф...</td>\n",
       "    </tr>\n",
       "    <tr>\n",
       "      <th>5504</th>\n",
       "      <td>Менеджер по продажам продуктов ВЭД</td>\n",
       "      <td>Продажи продуктов ВЭД Обязанности : продажа п...</td>\n",
       "      <td>['Прямые продажи', 'Оптовая торговля', 'Менедж...</td>\n",
       "    </tr>\n",
       "    <tr>\n",
       "      <th>3330</th>\n",
       "      <td>Инвестиционный менеджер (канал Сбербанк Первый)</td>\n",
       "      <td>Тебе предстоит: осуществление кураторства зак...</td>\n",
       "      <td>['Инвестиционная компания', 'Прямые инвестиции...</td>\n",
       "    </tr>\n",
       "    <tr>\n",
       "      <th>3984</th>\n",
       "      <td>Консультант по работе с Пенсионным Фондом России</td>\n",
       "      <td>Обязанности: организация качественного провед...</td>\n",
       "      <td>['Прямые продажи', 'Оптовая торговля', 'Менедж...</td>\n",
       "    </tr>\n",
       "    <tr>\n",
       "      <th>5055</th>\n",
       "      <td>Консультант по работе с ПФР</td>\n",
       "      <td>Обязанности: Проведение презентаций по продаж...</td>\n",
       "      <td>['Привлечение клиентов', 'Кредиты', 'Продажа ф...</td>\n",
       "    </tr>\n",
       "    <tr>\n",
       "      <th>3739</th>\n",
       "      <td>Консультант по работе с ПФР</td>\n",
       "      <td>Обязанности: Проведение презентаций по продаж...</td>\n",
       "      <td>['Привлечение клиентов', 'Кредиты', 'Продажа ф...</td>\n",
       "    </tr>\n",
       "  </tbody>\n",
       "</table>\n",
       "</div>"
      ],
      "text/plain": [
       "                                                  name  \\\n",
       "3941         Консультант по работе с пенсионным фондом   \n",
       "4810         Региональный менеджер внешней дистрибуции   \n",
       "757                         Руководитель Премьер офиса   \n",
       "986                         Руководитель Премьер офиса   \n",
       "5418                         Менеджер поддержки продаж   \n",
       "5504                Менеджер по продажам продуктов ВЭД   \n",
       "3330   Инвестиционный менеджер (канал Сбербанк Первый)   \n",
       "3984  Консультант по работе с Пенсионным Фондом России   \n",
       "5055                       Консультант по работе с ПФР   \n",
       "3739                       Консультант по работе с ПФР   \n",
       "\n",
       "                                            description  \\\n",
       "3941   Обязанности: Открытие (продажа) банковских ка...   \n",
       "4810   Обязанности: организация процесса продаж для ...   \n",
       "757    Обязанности: организация работы ВИП офиса в с...   \n",
       "986    Обязанности: организация работы ВИП офиса в с...   \n",
       "5418   Обязанности: консультирование по банковским п...   \n",
       "5504   Продажи продуктов ВЭД Обязанности : продажа п...   \n",
       "3330   Тебе предстоит: осуществление кураторства зак...   \n",
       "3984   Обязанности: организация качественного провед...   \n",
       "5055   Обязанности: Проведение презентаций по продаж...   \n",
       "3739   Обязанности: Проведение презентаций по продаж...   \n",
       "\n",
       "                                        specializations  \n",
       "3941  ['Страхование жизни', 'Автострахование', 'Пере...  \n",
       "4810  ['Прямые продажи', 'Оптовая торговля', 'Менедж...  \n",
       "757   ['Розничная торговля', 'Прямые продажи', 'Мене...  \n",
       "986   ['Розничная торговля', 'Прямые продажи', 'Мене...  \n",
       "5418  ['Привлечение клиентов', 'Кредиты', 'Продажа ф...  \n",
       "5504  ['Прямые продажи', 'Оптовая торговля', 'Менедж...  \n",
       "3330  ['Инвестиционная компания', 'Прямые инвестиции...  \n",
       "3984  ['Прямые продажи', 'Оптовая торговля', 'Менедж...  \n",
       "5055  ['Привлечение клиентов', 'Кредиты', 'Продажа ф...  \n",
       "3739  ['Привлечение клиентов', 'Кредиты', 'Продажа ф...  "
      ]
     },
     "execution_count": 43,
     "metadata": {},
     "output_type": "execute_result"
    }
   ],
   "source": [
    "top_10_TV = df.sort_values(by='TfIdf_cosine', ascending=False)[[\"name\", \"description\", \"specializations\"]].head(10)\n",
    "top_10_TV"
   ]
  },
  {
   "cell_type": "code",
   "execution_count": 139,
   "metadata": {},
   "outputs": [
    {
     "data": {
      "text/html": [
       "<div>\n",
       "<style scoped>\n",
       "    .dataframe tbody tr th:only-of-type {\n",
       "        vertical-align: middle;\n",
       "    }\n",
       "\n",
       "    .dataframe tbody tr th {\n",
       "        vertical-align: top;\n",
       "    }\n",
       "\n",
       "    .dataframe thead th {\n",
       "        text-align: right;\n",
       "    }\n",
       "</style>\n",
       "<table border=\"1\" class=\"dataframe\">\n",
       "  <thead>\n",
       "    <tr style=\"text-align: right;\">\n",
       "      <th></th>\n",
       "      <th>name</th>\n",
       "      <th>description</th>\n",
       "      <th>specializations</th>\n",
       "    </tr>\n",
       "  </thead>\n",
       "  <tbody>\n",
       "    <tr>\n",
       "      <th>3928</th>\n",
       "      <td>Консультант по работе с пенсионным фондом</td>\n",
       "      <td>Обязанности: Открытие (продажа) банковских ка...</td>\n",
       "      <td>['Страхование жизни', 'Автострахование', 'Пере...</td>\n",
       "    </tr>\n",
       "    <tr>\n",
       "      <th>4795</th>\n",
       "      <td>Региональный менеджер внешней дистрибуции</td>\n",
       "      <td>Обязанности: организация процесса продаж для ...</td>\n",
       "      <td>['Прямые продажи', 'Оптовая торговля', 'Менедж...</td>\n",
       "    </tr>\n",
       "    <tr>\n",
       "      <th>754</th>\n",
       "      <td>Руководитель Премьер офиса</td>\n",
       "      <td>Обязанности: организация работы ВИП офиса в с...</td>\n",
       "      <td>['Розничная торговля', 'Прямые продажи', 'Мене...</td>\n",
       "    </tr>\n",
       "    <tr>\n",
       "      <th>982</th>\n",
       "      <td>Руководитель Премьер офиса</td>\n",
       "      <td>Обязанности: организация работы ВИП офиса в с...</td>\n",
       "      <td>['Розничная торговля', 'Прямые продажи', 'Мене...</td>\n",
       "    </tr>\n",
       "    <tr>\n",
       "      <th>5402</th>\n",
       "      <td>Менеджер поддержки продаж</td>\n",
       "      <td>Обязанности: консультирование по банковским п...</td>\n",
       "      <td>['Привлечение клиентов', 'Кредиты', 'Продажа ф...</td>\n",
       "    </tr>\n",
       "    <tr>\n",
       "      <th>5487</th>\n",
       "      <td>Менеджер по продажам продуктов ВЭД</td>\n",
       "      <td>Продажи продуктов ВЭД Обязанности : продажа п...</td>\n",
       "      <td>['Прямые продажи', 'Оптовая торговля', 'Менедж...</td>\n",
       "    </tr>\n",
       "    <tr>\n",
       "      <th>3318</th>\n",
       "      <td>Инвестиционный менеджер (канал Сбербанк Первый)</td>\n",
       "      <td>Тебе предстоит: осуществление кураторства зак...</td>\n",
       "      <td>['Инвестиционная компания', 'Прямые инвестиции...</td>\n",
       "    </tr>\n",
       "    <tr>\n",
       "      <th>3971</th>\n",
       "      <td>Консультант по работе с Пенсионным Фондом России</td>\n",
       "      <td>Обязанности: организация качественного провед...</td>\n",
       "      <td>['Прямые продажи', 'Оптовая торговля', 'Менедж...</td>\n",
       "    </tr>\n",
       "    <tr>\n",
       "      <th>5040</th>\n",
       "      <td>Консультант по работе с ПФР</td>\n",
       "      <td>Обязанности: Проведение презентаций по продаж...</td>\n",
       "      <td>['Привлечение клиентов', 'Кредиты', 'Продажа ф...</td>\n",
       "    </tr>\n",
       "    <tr>\n",
       "      <th>3727</th>\n",
       "      <td>Консультант по работе с ПФР</td>\n",
       "      <td>Обязанности: Проведение презентаций по продаж...</td>\n",
       "      <td>['Привлечение клиентов', 'Кредиты', 'Продажа ф...</td>\n",
       "    </tr>\n",
       "  </tbody>\n",
       "</table>\n",
       "</div>"
      ],
      "text/plain": [
       "                                                  name  \\\n",
       "3928         Консультант по работе с пенсионным фондом   \n",
       "4795         Региональный менеджер внешней дистрибуции   \n",
       "754                         Руководитель Премьер офиса   \n",
       "982                         Руководитель Премьер офиса   \n",
       "5402                         Менеджер поддержки продаж   \n",
       "5487                Менеджер по продажам продуктов ВЭД   \n",
       "3318   Инвестиционный менеджер (канал Сбербанк Первый)   \n",
       "3971  Консультант по работе с Пенсионным Фондом России   \n",
       "5040                       Консультант по работе с ПФР   \n",
       "3727                       Консультант по работе с ПФР   \n",
       "\n",
       "                                            description  \\\n",
       "3928   Обязанности: Открытие (продажа) банковских ка...   \n",
       "4795   Обязанности: организация процесса продаж для ...   \n",
       "754    Обязанности: организация работы ВИП офиса в с...   \n",
       "982    Обязанности: организация работы ВИП офиса в с...   \n",
       "5402   Обязанности: консультирование по банковским п...   \n",
       "5487   Продажи продуктов ВЭД Обязанности : продажа п...   \n",
       "3318   Тебе предстоит: осуществление кураторства зак...   \n",
       "3971   Обязанности: организация качественного провед...   \n",
       "5040   Обязанности: Проведение презентаций по продаж...   \n",
       "3727   Обязанности: Проведение презентаций по продаж...   \n",
       "\n",
       "                                        specializations  \n",
       "3928  ['Страхование жизни', 'Автострахование', 'Пере...  \n",
       "4795  ['Прямые продажи', 'Оптовая торговля', 'Менедж...  \n",
       "754   ['Розничная торговля', 'Прямые продажи', 'Мене...  \n",
       "982   ['Розничная торговля', 'Прямые продажи', 'Мене...  \n",
       "5402  ['Привлечение клиентов', 'Кредиты', 'Продажа ф...  \n",
       "5487  ['Прямые продажи', 'Оптовая торговля', 'Менедж...  \n",
       "3318  ['Инвестиционная компания', 'Прямые инвестиции...  \n",
       "3971  ['Прямые продажи', 'Оптовая торговля', 'Менедж...  \n",
       "5040  ['Привлечение клиентов', 'Кредиты', 'Продажа ф...  \n",
       "3727  ['Привлечение клиентов', 'Кредиты', 'Продажа ф...  "
      ]
     },
     "execution_count": 139,
     "metadata": {},
     "output_type": "execute_result"
    }
   ],
   "source": [
    "top_10_TV"
   ]
  },
  {
   "cell_type": "markdown",
   "metadata": {},
   "source": [
    "### МЕТОД 3. Doc2Vec"
   ]
  },
  {
   "cell_type": "code",
   "execution_count": 46,
   "metadata": {},
   "outputs": [],
   "source": [
    "# функция для удаления стоп-слов (в методе нет встроенного параметра)\n",
    "def remove_stopwords(document, stopwords=stop_words_ru, return_string=False):\n",
    "    '''Функция для удаления стоп-слов'''\n",
    "    document = [word for word in document if word not in stopwords]\n",
    "    if return_string:\n",
    "        document = \" \".join(document)\n",
    "    return document"
   ]
  },
  {
   "cell_type": "code",
   "execution_count": 48,
   "metadata": {},
   "outputs": [],
   "source": [
    "tagged_data = [TaggedDocument(words=remove_stopwords(word_tokenize(text)),\n",
    "                              tags=[i]) for i, text in zip(list(df.desc_normal.index.values), df.desc_normal.values)]"
   ]
  },
  {
   "cell_type": "code",
   "execution_count": 49,
   "metadata": {},
   "outputs": [],
   "source": [
    "doc2vec_model = Doc2Vec(vector_size=100, \n",
    "                min_alpha=0.00025,\n",
    "                min_count=int(len(df)*0.001),\n",
    "                dm=0,\n",
    "                epochs=20)\n",
    "\n",
    "doc2vec_model.build_vocab(tagged_data)\n",
    "doc2vec_model.train(tagged_data,\n",
    "            total_examples=doc2vec_model.corpus_count,\n",
    "            epochs=doc2vec_model.epochs)"
   ]
  },
  {
   "cell_type": "code",
   "execution_count": 50,
   "metadata": {},
   "outputs": [],
   "source": [
    "# векторизация опыта из резюме на основании полученного эмбеддинга\n",
    "\n",
    "exp_tokens = remove_stopwords(word_tokenize(expirience))\n",
    "exp_vector_doc2vec = doc2vec_model.infer_vector(exp_tokens)"
   ]
  },
  {
   "cell_type": "code",
   "execution_count": 52,
   "metadata": {},
   "outputs": [],
   "source": [
    "# подбор наиболее подходящих вакансий\n",
    "# similar_vac = doc2vec_model.docvecs.most_similar(exp_vector_doc2vec, topn=10)\n",
    "# for i in similar_vac:\n",
    "#     print(i[0], df.name.loc[i[0]])"
   ]
  },
  {
   "cell_type": "code",
   "execution_count": 53,
   "metadata": {},
   "outputs": [],
   "source": [
    "df['D2V_vector'] = [doc2vec_model.dv[i] for i in df.index.values]"
   ]
  },
  {
   "cell_type": "code",
   "execution_count": 54,
   "metadata": {},
   "outputs": [],
   "source": [
    "df['D2V_cosine'] = df['D2V_vector'].apply(cosine_sim_vectors, vec2=exp_vector_doc2vec)"
   ]
  },
  {
   "cell_type": "code",
   "execution_count": 55,
   "metadata": {},
   "outputs": [
    {
     "data": {
      "text/html": [
       "<div>\n",
       "<style scoped>\n",
       "    .dataframe tbody tr th:only-of-type {\n",
       "        vertical-align: middle;\n",
       "    }\n",
       "\n",
       "    .dataframe tbody tr th {\n",
       "        vertical-align: top;\n",
       "    }\n",
       "\n",
       "    .dataframe thead th {\n",
       "        text-align: right;\n",
       "    }\n",
       "</style>\n",
       "<table border=\"1\" class=\"dataframe\">\n",
       "  <thead>\n",
       "    <tr style=\"text-align: right;\">\n",
       "      <th></th>\n",
       "      <th>name</th>\n",
       "      <th>description</th>\n",
       "      <th>specializations</th>\n",
       "    </tr>\n",
       "  </thead>\n",
       "  <tbody>\n",
       "    <tr>\n",
       "      <th>3941</th>\n",
       "      <td>Консультант по работе с пенсионным фондом</td>\n",
       "      <td>Обязанности: Открытие (продажа) банковских ка...</td>\n",
       "      <td>['Страхование жизни', 'Автострахование', 'Пере...</td>\n",
       "    </tr>\n",
       "    <tr>\n",
       "      <th>5023</th>\n",
       "      <td>Клиентский менеджер Сбер Премьер в МИДДЛ-офис</td>\n",
       "      <td>Обязанности: - обслуживание премиальных клиен...</td>\n",
       "      <td>['Прямые продажи', 'Оптовая торговля', 'Менедж...</td>\n",
       "    </tr>\n",
       "    <tr>\n",
       "      <th>288</th>\n",
       "      <td>Клиентский менеджер Сбер Премьер в МИДДЛ-офис</td>\n",
       "      <td>Обязанности: - обслуживание премиальных клиен...</td>\n",
       "      <td>['Прямые продажи', 'Оптовая торговля', 'Менедж...</td>\n",
       "    </tr>\n",
       "    <tr>\n",
       "      <th>4017</th>\n",
       "      <td>Менеджер по продаже жилищных кредитов</td>\n",
       "      <td>консультация клиентов и партнеров банка по пр...</td>\n",
       "      <td>['Привлечение клиентов', 'Продажа финансовых п...</td>\n",
       "    </tr>\n",
       "    <tr>\n",
       "      <th>2851</th>\n",
       "      <td>Клиентский менеджер внешней дистрибуции</td>\n",
       "      <td>Хочешь работать в банке, но офисная рутина не...</td>\n",
       "      <td>['Прямые продажи', 'Оптовая торговля', 'Менедж...</td>\n",
       "    </tr>\n",
       "    <tr>\n",
       "      <th>5138</th>\n",
       "      <td>Менеджер по работе с клиентами малого бизнеса</td>\n",
       "      <td>Обязанности: консультировать корпоративных кл...</td>\n",
       "      <td>['Прямые продажи', 'Оптовая торговля', 'Менедж...</td>\n",
       "    </tr>\n",
       "    <tr>\n",
       "      <th>5487</th>\n",
       "      <td>Клиентский менеджер внешней дистрибуции</td>\n",
       "      <td>Хочешь работать в банке, но офисная рутина не...</td>\n",
       "      <td>['Прямые продажи', 'Оптовая торговля', 'Менедж...</td>\n",
       "    </tr>\n",
       "    <tr>\n",
       "      <th>2168</th>\n",
       "      <td>Руководитель по внедрению проектов (КМ-хантер)</td>\n",
       "      <td>Обязанности: формирование потребности и разви...</td>\n",
       "      <td>['Информационные технологии', 'Управление прое...</td>\n",
       "    </tr>\n",
       "    <tr>\n",
       "      <th>777</th>\n",
       "      <td>Консультант по работе с Пенсионным Фондом России</td>\n",
       "      <td>Обязанности: - организация качественного пров...</td>\n",
       "      <td>['Прямые продажи', 'Оптовая торговля', 'Менедж...</td>\n",
       "    </tr>\n",
       "    <tr>\n",
       "      <th>3984</th>\n",
       "      <td>Консультант по работе с Пенсионным Фондом России</td>\n",
       "      <td>Обязанности: организация качественного провед...</td>\n",
       "      <td>['Прямые продажи', 'Оптовая торговля', 'Менедж...</td>\n",
       "    </tr>\n",
       "  </tbody>\n",
       "</table>\n",
       "</div>"
      ],
      "text/plain": [
       "                                                  name  \\\n",
       "3941         Консультант по работе с пенсионным фондом   \n",
       "5023     Клиентский менеджер Сбер Премьер в МИДДЛ-офис   \n",
       "288      Клиентский менеджер Сбер Премьер в МИДДЛ-офис   \n",
       "4017             Менеджер по продаже жилищных кредитов   \n",
       "2851           Клиентский менеджер внешней дистрибуции   \n",
       "5138     Менеджер по работе с клиентами малого бизнеса   \n",
       "5487           Клиентский менеджер внешней дистрибуции   \n",
       "2168    Руководитель по внедрению проектов (КМ-хантер)   \n",
       "777   Консультант по работе с Пенсионным Фондом России   \n",
       "3984  Консультант по работе с Пенсионным Фондом России   \n",
       "\n",
       "                                            description  \\\n",
       "3941   Обязанности: Открытие (продажа) банковских ка...   \n",
       "5023   Обязанности: - обслуживание премиальных клиен...   \n",
       "288    Обязанности: - обслуживание премиальных клиен...   \n",
       "4017   консультация клиентов и партнеров банка по пр...   \n",
       "2851   Хочешь работать в банке, но офисная рутина не...   \n",
       "5138   Обязанности: консультировать корпоративных кл...   \n",
       "5487   Хочешь работать в банке, но офисная рутина не...   \n",
       "2168   Обязанности: формирование потребности и разви...   \n",
       "777    Обязанности: - организация качественного пров...   \n",
       "3984   Обязанности: организация качественного провед...   \n",
       "\n",
       "                                        specializations  \n",
       "3941  ['Страхование жизни', 'Автострахование', 'Пере...  \n",
       "5023  ['Прямые продажи', 'Оптовая торговля', 'Менедж...  \n",
       "288   ['Прямые продажи', 'Оптовая торговля', 'Менедж...  \n",
       "4017  ['Привлечение клиентов', 'Продажа финансовых п...  \n",
       "2851  ['Прямые продажи', 'Оптовая торговля', 'Менедж...  \n",
       "5138  ['Прямые продажи', 'Оптовая торговля', 'Менедж...  \n",
       "5487  ['Прямые продажи', 'Оптовая торговля', 'Менедж...  \n",
       "2168  ['Информационные технологии', 'Управление прое...  \n",
       "777   ['Прямые продажи', 'Оптовая торговля', 'Менедж...  \n",
       "3984  ['Прямые продажи', 'Оптовая торговля', 'Менедж...  "
      ]
     },
     "execution_count": 55,
     "metadata": {},
     "output_type": "execute_result"
    }
   ],
   "source": [
    "top_10_D2V = df.sort_values(by='D2V_cosine', ascending=False)[[\"name\", \"description\", \"specializations\"]].head(10)\n",
    "top_10_D2V"
   ]
  },
  {
   "cell_type": "markdown",
   "metadata": {},
   "source": [
    "### МЕТОД 4. SentenceTransformer (BERT)"
   ]
  },
  {
   "cell_type": "code",
   "execution_count": 57,
   "metadata": {},
   "outputs": [],
   "source": [
    "ST_model = SentenceTransformer('distiluse-base-multilingual-cased-v1')"
   ]
  },
  {
   "cell_type": "code",
   "execution_count": 58,
   "metadata": {},
   "outputs": [],
   "source": [
    "df['bert_vector'] = df.desc_normal.apply(ST_model.encode)"
   ]
  },
  {
   "cell_type": "code",
   "execution_count": 59,
   "metadata": {},
   "outputs": [],
   "source": [
    "exp_vector_BERT = ST_model.encode(expirience)"
   ]
  },
  {
   "cell_type": "code",
   "execution_count": 60,
   "metadata": {},
   "outputs": [],
   "source": [
    "df['bert_cosine'] = df['bert_vector'].apply(cosine_sim_vectors, vec2=exp_vector_BERT)"
   ]
  },
  {
   "cell_type": "code",
   "execution_count": 61,
   "metadata": {},
   "outputs": [],
   "source": [
    "top_10_BERT = df.sort_values(by='bert_cosine', ascending=False).head(10)[['id', 'name']]"
   ]
  },
  {
   "cell_type": "code",
   "execution_count": 62,
   "metadata": {},
   "outputs": [
    {
     "data": {
      "text/html": [
       "<div>\n",
       "<style scoped>\n",
       "    .dataframe tbody tr th:only-of-type {\n",
       "        vertical-align: middle;\n",
       "    }\n",
       "\n",
       "    .dataframe tbody tr th {\n",
       "        vertical-align: top;\n",
       "    }\n",
       "\n",
       "    .dataframe thead th {\n",
       "        text-align: right;\n",
       "    }\n",
       "</style>\n",
       "<table border=\"1\" class=\"dataframe\">\n",
       "  <thead>\n",
       "    <tr style=\"text-align: right;\">\n",
       "      <th></th>\n",
       "      <th>id</th>\n",
       "      <th>name</th>\n",
       "    </tr>\n",
       "  </thead>\n",
       "  <tbody>\n",
       "    <tr>\n",
       "      <th>5023</th>\n",
       "      <td>51860457.0</td>\n",
       "      <td>Клиентский менеджер Сбер Премьер в МИДДЛ-офис</td>\n",
       "    </tr>\n",
       "    <tr>\n",
       "      <th>288</th>\n",
       "      <td>51978275.0</td>\n",
       "      <td>Клиентский менеджер Сбер Премьер в МИДДЛ-офис</td>\n",
       "    </tr>\n",
       "    <tr>\n",
       "      <th>5418</th>\n",
       "      <td>50979215.0</td>\n",
       "      <td>Менеджер поддержки продаж</td>\n",
       "    </tr>\n",
       "    <tr>\n",
       "      <th>777</th>\n",
       "      <td>51405259.0</td>\n",
       "      <td>Консультант по работе с Пенсионным Фондом России</td>\n",
       "    </tr>\n",
       "    <tr>\n",
       "      <th>3984</th>\n",
       "      <td>51417228.0</td>\n",
       "      <td>Консультант по работе с Пенсионным Фондом России</td>\n",
       "    </tr>\n",
       "    <tr>\n",
       "      <th>3739</th>\n",
       "      <td>50006422.0</td>\n",
       "      <td>Консультант по работе с ПФР</td>\n",
       "    </tr>\n",
       "    <tr>\n",
       "      <th>5055</th>\n",
       "      <td>48031761.0</td>\n",
       "      <td>Консультант по работе с ПФР</td>\n",
       "    </tr>\n",
       "    <tr>\n",
       "      <th>4268</th>\n",
       "      <td>51311334.0</td>\n",
       "      <td>Клиентский менеджер внешней дистрибуции (Прямы...</td>\n",
       "    </tr>\n",
       "    <tr>\n",
       "      <th>5138</th>\n",
       "      <td>51390286.0</td>\n",
       "      <td>Менеджер по работе с клиентами малого бизнеса</td>\n",
       "    </tr>\n",
       "    <tr>\n",
       "      <th>3556</th>\n",
       "      <td>49749744.0</td>\n",
       "      <td>Финансовый эксперт, г. Ставрополь</td>\n",
       "    </tr>\n",
       "  </tbody>\n",
       "</table>\n",
       "</div>"
      ],
      "text/plain": [
       "              id                                               name\n",
       "5023  51860457.0      Клиентский менеджер Сбер Премьер в МИДДЛ-офис\n",
       "288   51978275.0      Клиентский менеджер Сбер Премьер в МИДДЛ-офис\n",
       "5418  50979215.0                          Менеджер поддержки продаж\n",
       "777   51405259.0   Консультант по работе с Пенсионным Фондом России\n",
       "3984  51417228.0   Консультант по работе с Пенсионным Фондом России\n",
       "3739  50006422.0                        Консультант по работе с ПФР\n",
       "5055  48031761.0                        Консультант по работе с ПФР\n",
       "4268  51311334.0  Клиентский менеджер внешней дистрибуции (Прямы...\n",
       "5138  51390286.0      Менеджер по работе с клиентами малого бизнеса\n",
       "3556  49749744.0                  Финансовый эксперт, г. Ставрополь"
      ]
     },
     "execution_count": 53,
     "metadata": {},
     "output_type": "execute_result"
    }
   ],
   "source": [
    "top_10_BERT"
   ]
  },
  {
   "cell_type": "markdown",
   "metadata": {},
   "source": [
    "# Скрипт подбора вакансий"
   ]
  },
  {
   "cell_type": "code",
   "execution_count": 63,
   "metadata": {},
   "outputs": [],
   "source": [
    "# Клиентский менеджер\n",
    "experience_ = '''Консультирование и продажа банковских продуктов: открытие вкладов, кредитов, кредитных и дебетовых карт, \\\n",
    "подключение автоплатежей, продажа инвестиционных продуктов, переводы'''"
   ]
  },
  {
   "cell_type": "code",
   "execution_count": 66,
   "metadata": {},
   "outputs": [],
   "source": [
    "methods = {\n",
    "    'CountVectorizer': {'model': vec_CV, 'embedding': desc_vectors_CV},\n",
    "    'TfidfVectorizer': {'model': vec_tfidf, 'embedding': desc_vectors_tfidf},\n",
    "    'Doc2Vec': {'model': doc2vec_model},\n",
    "    'SentenceTransformer': {'model': ST_model}\n",
    "}"
   ]
  },
  {
   "cell_type": "code",
   "execution_count": 67,
   "metadata": {},
   "outputs": [],
   "source": [
    "def cv_vectorizer(experience_description: str, sw=stop_words_ru, voc=vec_CV.get_feature_names()):\n",
    "    vectorizer = CountVectorizer(stop_words=sw, vocabulary=voc)\n",
    "    exp_vector = vectorizer.fit_transform([experience_description])\n",
    "    exp_vector = exp_vector.toarray()[0]\n",
    "    return exp_vector"
   ]
  },
  {
   "cell_type": "code",
   "execution_count": 68,
   "metadata": {},
   "outputs": [],
   "source": [
    "def tfidf_vectorizer(experience_description, sw=stop_words_ru, voc=vec_tfidf.get_feature_names()):\n",
    "    vectorizer = TfidfVectorizer(stop_words=sw, vocabulary=voc)\n",
    "    exp_vector = vectorizer.fit_transform([experience_description])\n",
    "    exp_vector = exp_vector.toarray()[0]\n",
    "    return exp_vector"
   ]
  },
  {
   "cell_type": "code",
   "execution_count": 69,
   "metadata": {},
   "outputs": [],
   "source": [
    "def d2v_vectorizer(experience_description, sw=stop_words_ru, model=doc2vec_model):\n",
    "    exp_tokens = [word for word in experience_description.split() if word not in sw]\n",
    "    exp_vector = model.infer_vector(exp_tokens)\n",
    "    return exp_vector"
   ]
  },
  {
   "cell_type": "code",
   "execution_count": 70,
   "metadata": {},
   "outputs": [],
   "source": [
    "def st_vectorizer(experience_description, model=ST_model):\n",
    "    exp_vector = model.encode(expirience)\n",
    "    return exp_vector"
   ]
  },
  {
   "cell_type": "code",
   "execution_count": 71,
   "metadata": {},
   "outputs": [],
   "source": [
    "def vacancy_recommender(experience_description: str, method: str):\n",
    "    '''\n",
    "    Parameters:\n",
    "        experience_description: str\n",
    "            Текстовое описание опыта из резюме.\n",
    "        method: str\n",
    "            Применяемый метод векторизации.\n",
    "            Возможные значения: 'CountVectorizer',\n",
    "                                'TfidfVectorizer',\n",
    "                                'Doc2Vec',\n",
    "                                'SentenceTransformer'\n",
    "    '''\n",
    "    methods = {\n",
    "        'CountVectorizer': {'df_col': 'CV_vector', 'vectorizer': cv_vectorizer},\n",
    "        'TfidfVectorizer': {'df_col': 'TfIdf_vector', 'vectorizer': tfidf_vectorizer},\n",
    "        'Doc2Vec': {'df_col': 'D2V_vector', 'vectorizer': d2v_vectorizer},\n",
    "        'SentenceTransformer': {'df_col': 'bert_vector', 'vectorizer': st_vectorizer}\n",
    "    }\n",
    "    exp_normal = preprocess(experience_description)\n",
    "    exp_vector = methods[method]['vectorizer'](exp_normal)\n",
    "    tmp_df = df[['id', 'name', 'description', 'specializations', methods[method]['df_col']]].copy()\n",
    "    tmp_df['cosine'] = tmp_df[methods[method]['df_col']].apply(cosine_sim_vectors, vec2=exp_vector)\n",
    "    top_10 = tmp_df.sort_values(by='cosine', ascending=False)[['name', 'description']].head(10)\n",
    "    return top_10\n",
    "    "
   ]
  },
  {
   "cell_type": "code",
   "execution_count": 72,
   "metadata": {
    "scrolled": true
   },
   "outputs": [
    {
     "data": {
      "text/html": [
       "<div>\n",
       "<style scoped>\n",
       "    .dataframe tbody tr th:only-of-type {\n",
       "        vertical-align: middle;\n",
       "    }\n",
       "\n",
       "    .dataframe tbody tr th {\n",
       "        vertical-align: top;\n",
       "    }\n",
       "\n",
       "    .dataframe thead th {\n",
       "        text-align: right;\n",
       "    }\n",
       "</style>\n",
       "<table border=\"1\" class=\"dataframe\">\n",
       "  <thead>\n",
       "    <tr style=\"text-align: right;\">\n",
       "      <th></th>\n",
       "      <th>name</th>\n",
       "      <th>description</th>\n",
       "    </tr>\n",
       "  </thead>\n",
       "  <tbody>\n",
       "    <tr>\n",
       "      <th>3941</th>\n",
       "      <td>Консультант по работе с пенсионным фондом</td>\n",
       "      <td>Обязанности: Открытие (продажа) банковских ка...</td>\n",
       "    </tr>\n",
       "    <tr>\n",
       "      <th>5023</th>\n",
       "      <td>Клиентский менеджер Сбер Премьер в МИДДЛ-офис</td>\n",
       "      <td>Обязанности: - обслуживание премиальных клиен...</td>\n",
       "    </tr>\n",
       "    <tr>\n",
       "      <th>288</th>\n",
       "      <td>Клиентский менеджер Сбер Премьер в МИДДЛ-офис</td>\n",
       "      <td>Обязанности: - обслуживание премиальных клиен...</td>\n",
       "    </tr>\n",
       "    <tr>\n",
       "      <th>4017</th>\n",
       "      <td>Менеджер по продаже жилищных кредитов</td>\n",
       "      <td>консультация клиентов и партнеров банка по пр...</td>\n",
       "    </tr>\n",
       "    <tr>\n",
       "      <th>2851</th>\n",
       "      <td>Клиентский менеджер внешней дистрибуции</td>\n",
       "      <td>Хочешь работать в банке, но офисная рутина не...</td>\n",
       "    </tr>\n",
       "    <tr>\n",
       "      <th>777</th>\n",
       "      <td>Консультант по работе с Пенсионным Фондом России</td>\n",
       "      <td>Обязанности: - организация качественного пров...</td>\n",
       "    </tr>\n",
       "    <tr>\n",
       "      <th>1343</th>\n",
       "      <td>Консультант по работе с ПФР</td>\n",
       "      <td>Обязанности: обеспечение выполнения плана по ...</td>\n",
       "    </tr>\n",
       "    <tr>\n",
       "      <th>5487</th>\n",
       "      <td>Клиентский менеджер внешней дистрибуции</td>\n",
       "      <td>Хочешь работать в банке, но офисная рутина не...</td>\n",
       "    </tr>\n",
       "    <tr>\n",
       "      <th>3984</th>\n",
       "      <td>Консультант по работе с Пенсионным Фондом России</td>\n",
       "      <td>Обязанности: организация качественного провед...</td>\n",
       "    </tr>\n",
       "    <tr>\n",
       "      <th>5138</th>\n",
       "      <td>Менеджер по работе с клиентами малого бизнеса</td>\n",
       "      <td>Обязанности: консультировать корпоративных кл...</td>\n",
       "    </tr>\n",
       "  </tbody>\n",
       "</table>\n",
       "</div>"
      ],
      "text/plain": [
       "                                                  name  \\\n",
       "3941         Консультант по работе с пенсионным фондом   \n",
       "5023     Клиентский менеджер Сбер Премьер в МИДДЛ-офис   \n",
       "288      Клиентский менеджер Сбер Премьер в МИДДЛ-офис   \n",
       "4017             Менеджер по продаже жилищных кредитов   \n",
       "2851           Клиентский менеджер внешней дистрибуции   \n",
       "777   Консультант по работе с Пенсионным Фондом России   \n",
       "1343                       Консультант по работе с ПФР   \n",
       "5487           Клиентский менеджер внешней дистрибуции   \n",
       "3984  Консультант по работе с Пенсионным Фондом России   \n",
       "5138     Менеджер по работе с клиентами малого бизнеса   \n",
       "\n",
       "                                            description  \n",
       "3941   Обязанности: Открытие (продажа) банковских ка...  \n",
       "5023   Обязанности: - обслуживание премиальных клиен...  \n",
       "288    Обязанности: - обслуживание премиальных клиен...  \n",
       "4017   консультация клиентов и партнеров банка по пр...  \n",
       "2851   Хочешь работать в банке, но офисная рутина не...  \n",
       "777    Обязанности: - организация качественного пров...  \n",
       "1343   Обязанности: обеспечение выполнения плана по ...  \n",
       "5487   Хочешь работать в банке, но офисная рутина не...  \n",
       "3984   Обязанности: организация качественного провед...  \n",
       "5138   Обязанности: консультировать корпоративных кл...  "
      ]
     },
     "execution_count": 72,
     "metadata": {},
     "output_type": "execute_result"
    }
   ],
   "source": [
    "vacancy_recommender(experience_, 'Doc2Vec')"
   ]
  },
  {
   "cell_type": "code",
   "execution_count": 73,
   "metadata": {},
   "outputs": [],
   "source": [
    "# Java-разработчик\n",
    "experience_ = '''Java-разработчик\n",
    "-Разработка прикладного программного обеспечения по реализации продуктов в рамках Зарплатного Проекта Сбербанка (Java 11, Spring Boot, Postgres)\n",
    "-Разработка по Agile, коммуникация с менеджерами проектов, дизайнерами, аналитиками и тестировщиками.\n",
    "Java Developer\n",
    "-Разработка серверной части веб приложений для программно-аппаратных комплексов (IoT)\n",
    "-Проектирование api для взаимодействия бекенд-фронтенд\n",
    "-Разработка и реализация REST API с использованием Spring, Spring Boot, Security\n",
    "-Участие в проектировании структуры БД (PostgreSQL)\n",
    "Инженер-разработчик\n",
    "Разработка веб-приложения на Java (full-stack) под нужды команды нагрузочного тестирования:\n",
    "-Проектирование и реализация БД (sqlite, mysql, jdbc, hybernate)\n",
    "-Разработка и реализация серверной части приложения на java (Spring, Boot, Security)\n",
    "-Разработка и реализация фронт части (html, css, js, thymeleaf, bootstrap)\n",
    "-Разработка REST API и написание документации\n",
    "-Покрытие тестами (spring test, junit, mockito)\n",
    "-Разработка пайплайнов (gitlab ci/cd)'''"
   ]
  },
  {
   "cell_type": "code",
   "execution_count": 76,
   "metadata": {},
   "outputs": [
    {
     "data": {
      "text/html": [
       "<div>\n",
       "<style scoped>\n",
       "    .dataframe tbody tr th:only-of-type {\n",
       "        vertical-align: middle;\n",
       "    }\n",
       "\n",
       "    .dataframe tbody tr th {\n",
       "        vertical-align: top;\n",
       "    }\n",
       "\n",
       "    .dataframe thead th {\n",
       "        text-align: right;\n",
       "    }\n",
       "</style>\n",
       "<table border=\"1\" class=\"dataframe\">\n",
       "  <thead>\n",
       "    <tr style=\"text-align: right;\">\n",
       "      <th></th>\n",
       "      <th>name</th>\n",
       "      <th>description</th>\n",
       "    </tr>\n",
       "  </thead>\n",
       "  <tbody>\n",
       "    <tr>\n",
       "      <th>73</th>\n",
       "      <td>Java-разработчик</td>\n",
       "      <td>О проекте: Мы занимаемся разработкой сервиса ...</td>\n",
       "    </tr>\n",
       "    <tr>\n",
       "      <th>4938</th>\n",
       "      <td>Java-разработчик</td>\n",
       "      <td>Наша команда Каналы и поверхности - Поставка ...</td>\n",
       "    </tr>\n",
       "    <tr>\n",
       "      <th>1693</th>\n",
       "      <td>Java разработчик</td>\n",
       "      <td>Сбер сейчас это, крупнейшая цифровая экосисте...</td>\n",
       "    </tr>\n",
       "    <tr>\n",
       "      <th>2984</th>\n",
       "      <td>Java Developer (Fair Pricing)</td>\n",
       "      <td>Мы приглашаем в нашу команду сильных амбициоз...</td>\n",
       "    </tr>\n",
       "    <tr>\n",
       "      <th>5298</th>\n",
       "      <td>Java developer</td>\n",
       "      <td>Предметная область. #SberData – департамент п...</td>\n",
       "    </tr>\n",
       "    <tr>\n",
       "      <th>4372</th>\n",
       "      <td>Главный инженер по разработке Java</td>\n",
       "      <td>- Проектирование и разработка пользовательско...</td>\n",
       "    </tr>\n",
       "    <tr>\n",
       "      <th>3944</th>\n",
       "      <td>Java разработчик (Каналы и поверхности)</td>\n",
       "      <td>Обязанности: Непосредственное участие во всех...</td>\n",
       "    </tr>\n",
       "    <tr>\n",
       "      <th>4046</th>\n",
       "      <td>Java-разработчик (проект Fair Pricing)</td>\n",
       "      <td>Мы приглашаем в нашу команду сильных амбициоз...</td>\n",
       "    </tr>\n",
       "    <tr>\n",
       "      <th>1318</th>\n",
       "      <td>Java-разработчик</td>\n",
       "      <td>Мы приглашаем в нашу команду сильных амбициоз...</td>\n",
       "    </tr>\n",
       "    <tr>\n",
       "      <th>1548</th>\n",
       "      <td>Java-разработчик (проект Fair Pricing)</td>\n",
       "      <td>Мы приглашаем в нашу команду сильных амбициоз...</td>\n",
       "    </tr>\n",
       "  </tbody>\n",
       "</table>\n",
       "</div>"
      ],
      "text/plain": [
       "                                         name  \\\n",
       "73                           Java-разработчик   \n",
       "4938                         Java-разработчик   \n",
       "1693                         Java разработчик   \n",
       "2984            Java Developer (Fair Pricing)   \n",
       "5298                           Java developer   \n",
       "4372       Главный инженер по разработке Java   \n",
       "3944  Java разработчик (Каналы и поверхности)   \n",
       "4046   Java-разработчик (проект Fair Pricing)   \n",
       "1318                         Java-разработчик   \n",
       "1548   Java-разработчик (проект Fair Pricing)   \n",
       "\n",
       "                                            description  \n",
       "73     О проекте: Мы занимаемся разработкой сервиса ...  \n",
       "4938   Наша команда Каналы и поверхности - Поставка ...  \n",
       "1693   Сбер сейчас это, крупнейшая цифровая экосисте...  \n",
       "2984   Мы приглашаем в нашу команду сильных амбициоз...  \n",
       "5298   Предметная область. #SberData – департамент п...  \n",
       "4372   - Проектирование и разработка пользовательско...  \n",
       "3944   Обязанности: Непосредственное участие во всех...  \n",
       "4046   Мы приглашаем в нашу команду сильных амбициоз...  \n",
       "1318   Мы приглашаем в нашу команду сильных амбициоз...  \n",
       "1548   Мы приглашаем в нашу команду сильных амбициоз...  "
      ]
     },
     "execution_count": 76,
     "metadata": {},
     "output_type": "execute_result"
    }
   ],
   "source": [
    "vacancy_recommender(experience_, 'TfidfVectorizer')"
   ]
  },
  {
   "cell_type": "code",
   "execution_count": 77,
   "metadata": {},
   "outputs": [
    {
     "data": {
      "text/html": [
       "<div>\n",
       "<style scoped>\n",
       "    .dataframe tbody tr th:only-of-type {\n",
       "        vertical-align: middle;\n",
       "    }\n",
       "\n",
       "    .dataframe tbody tr th {\n",
       "        vertical-align: top;\n",
       "    }\n",
       "\n",
       "    .dataframe thead th {\n",
       "        text-align: right;\n",
       "    }\n",
       "</style>\n",
       "<table border=\"1\" class=\"dataframe\">\n",
       "  <thead>\n",
       "    <tr style=\"text-align: right;\">\n",
       "      <th></th>\n",
       "      <th>name</th>\n",
       "      <th>description</th>\n",
       "    </tr>\n",
       "  </thead>\n",
       "  <tbody>\n",
       "    <tr>\n",
       "      <th>3183</th>\n",
       "      <td>Java-разработчик (проект Платежи и переводы)</td>\n",
       "      <td>Проект: Мы - Кластер «Payments&amp;amp;Transfers»...</td>\n",
       "    </tr>\n",
       "    <tr>\n",
       "      <th>1998</th>\n",
       "      <td>Java Developer (Проект \"Кредитные карты\")</td>\n",
       "      <td>Описание проекта Мы разрабатываем принципиаль...</td>\n",
       "    </tr>\n",
       "    <tr>\n",
       "      <th>4024</th>\n",
       "      <td>PHP-программист</td>\n",
       "      <td>Обязанности: - проектирование и разработка но...</td>\n",
       "    </tr>\n",
       "    <tr>\n",
       "      <th>4020</th>\n",
       "      <td>Java разработчик (Эмиссии зарплатных карт)</td>\n",
       "      <td>Ищем Java-разработчика в Зарплатный проект Ба...</td>\n",
       "    </tr>\n",
       "    <tr>\n",
       "      <th>2124</th>\n",
       "      <td>Java developer (Виртуальный ассистент КБ)</td>\n",
       "      <td>Мы ищем разработчика JAVA в ПАО Сбербанк, нео...</td>\n",
       "    </tr>\n",
       "    <tr>\n",
       "      <th>4605</th>\n",
       "      <td>Java-разработчик</td>\n",
       "      <td>Мы – команда блока Sberbank International. Мы...</td>\n",
       "    </tr>\n",
       "    <tr>\n",
       "      <th>1279</th>\n",
       "      <td>Team Lead / Senior Java-разработчик</td>\n",
       "      <td>Обязанности: Команда разработки платформенных...</td>\n",
       "    </tr>\n",
       "    <tr>\n",
       "      <th>2947</th>\n",
       "      <td>Специалист Java</td>\n",
       "      <td>Экспертный уровень знаний Java Знание Spring ...</td>\n",
       "    </tr>\n",
       "    <tr>\n",
       "      <th>1378</th>\n",
       "      <td>Android-разработчик</td>\n",
       "      <td>Мы - команда разработчиков из Экосистемы Сбер...</td>\n",
       "    </tr>\n",
       "    <tr>\n",
       "      <th>3537</th>\n",
       "      <td>System Analyst / Software Architect</td>\n",
       "      <td>В команду профессионалов требуется технически...</td>\n",
       "    </tr>\n",
       "  </tbody>\n",
       "</table>\n",
       "</div>"
      ],
      "text/plain": [
       "                                              name  \\\n",
       "3183  Java-разработчик (проект Платежи и переводы)   \n",
       "1998     Java Developer (Проект \"Кредитные карты\")   \n",
       "4024                               PHP-программист   \n",
       "4020    Java разработчик (Эмиссии зарплатных карт)   \n",
       "2124     Java developer (Виртуальный ассистент КБ)   \n",
       "4605                              Java-разработчик   \n",
       "1279           Team Lead / Senior Java-разработчик   \n",
       "2947                               Специалист Java   \n",
       "1378                           Android-разработчик   \n",
       "3537           System Analyst / Software Architect   \n",
       "\n",
       "                                            description  \n",
       "3183   Проект: Мы - Кластер «Payments&amp;Transfers»...  \n",
       "1998   Описание проекта Мы разрабатываем принципиаль...  \n",
       "4024   Обязанности: - проектирование и разработка но...  \n",
       "4020   Ищем Java-разработчика в Зарплатный проект Ба...  \n",
       "2124   Мы ищем разработчика JAVA в ПАО Сбербанк, нео...  \n",
       "4605   Мы – команда блока Sberbank International. Мы...  \n",
       "1279   Обязанности: Команда разработки платформенных...  \n",
       "2947   Экспертный уровень знаний Java Знание Spring ...  \n",
       "1378   Мы - команда разработчиков из Экосистемы Сбер...  \n",
       "3537   В команду профессионалов требуется технически...  "
      ]
     },
     "execution_count": 77,
     "metadata": {},
     "output_type": "execute_result"
    }
   ],
   "source": [
    "vacancy_recommender(experience_, 'Doc2Vec')"
   ]
  }
 ],
 "metadata": {
  "kernelspec": {
   "display_name": "Python 3",
   "language": "python",
   "name": "python3"
  },
  "language_info": {
   "codemirror_mode": {
    "name": "ipython",
    "version": 3
   },
   "file_extension": ".py",
   "mimetype": "text/x-python",
   "name": "python",
   "nbconvert_exporter": "python",
   "pygments_lexer": "ipython3",
   "version": "3.8.8"
  }
 },
 "nbformat": 4,
 "nbformat_minor": 4
}
