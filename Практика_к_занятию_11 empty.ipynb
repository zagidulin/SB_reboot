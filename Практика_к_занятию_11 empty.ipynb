{
 "cells": [
  {
   "cell_type": "markdown",
   "metadata": {
    "id": "pDrecLU-4QjS"
   },
   "source": [
    "# Практика"
   ]
  },
  {
   "cell_type": "code",
   "execution_count": 1,
   "metadata": {},
   "outputs": [],
   "source": [
    "import pandas as pd\n",
    "import numpy as np"
   ]
  },
  {
   "cell_type": "markdown",
   "metadata": {
    "id": "gUvTNDlMaV-a"
   },
   "source": [
    "## Определение вероятности. События\n",
    "\n",
    "Требуется сгенерировать необходимые выборки и произвести по ним расчеты"
   ]
  },
  {
   "cell_type": "markdown",
   "metadata": {
    "id": "5V70InEBTgup"
   },
   "source": [
    "### Задача 1\n",
    "Брошено две монеты. Найти вероятность того, что монеты выпали разными сторонами"
   ]
  },
  {
   "cell_type": "code",
   "execution_count": 2,
   "metadata": {
    "id": "88Iw-SL3jYQV"
   },
   "outputs": [
    {
     "name": "stdout",
     "output_type": "stream",
     "text": [
      "Вероятность того, что монеты выпали разными сторонами составляет 0.499559\n"
     ]
    }
   ],
   "source": [
    "df = pd.DataFrame(np.random.choice(['герб', 'решка'], (1000000, 2)), columns=['coin1', 'coin2'])\n",
    "difSides = len(df[df.coin1 != df.coin2]) / len(df)\n",
    "print('Вероятность того, что монеты выпали разными сторонами составляет', difSides)"
   ]
  },
  {
   "cell_type": "markdown",
   "metadata": {
    "id": "t0XOMos2Tl0e"
   },
   "source": [
    "### Задача 2\n",
    "Брошено три монеты. Описать множество всех элементарных событий. Найти вероятности следующих событий:\n",
    "\n",
    "\n",
    "1.   A = {не выпало ни одного герба}\n",
    "2.   B = {выпало четное число гербов}\n",
    "3.   C = {на третьей монете выпал герб}\n"
   ]
  },
  {
   "cell_type": "code",
   "execution_count": 3,
   "metadata": {
    "id": "o7NjAE9uUo-L"
   },
   "outputs": [
    {
     "name": "stdout",
     "output_type": "stream",
     "text": [
      "P(A) = 0.125141\n",
      "P(B) = 0.374745\n",
      "P(C) = 0.499897\n"
     ]
    }
   ],
   "source": [
    "# Множество элементарных событий:\n",
    "# w1-'герб', w2-'герб', w3-'герб';\n",
    "# w1-'герб', w2-'герб', w3-'решка';\n",
    "# w1-'герб', w2-'решка', w3-'герб';\n",
    "# w1-'герб', w2-'решка', w3-'решка',;\n",
    "# w1-'решка', w2-'герб', w3-'герб';\n",
    "# w1-'решка', w2-'герб', w3-'решка';\n",
    "# w1-'решка', w2-'решка', w3-'герб';\n",
    "# w1-'решка', w2-'решка', w3-'решка';\n",
    "\n",
    "df = pd.DataFrame(np.random.choice(['герб', 'решка'], (1000000, 3)), columns=['coin1', 'coin2', 'coin3'])\n",
    "noHeads = len(df[(df.coin1 == 'решка') & (df.coin2 == 'решка') & (df.coin3 == 'решка')]) / len(df)\n",
    "evenHeads = df.isin(['герб']).sum(axis=1).isin([2]).sum() / len(df)\n",
    "thirdHeads = df.coin3.value_counts().loc['герб'] / len(df)\n",
    "print('P(A) =', noHeads)\n",
    "print('P(B) =', evenHeads)\n",
    "print('P(C) =', thirdHeads)"
   ]
  },
  {
   "cell_type": "markdown",
   "metadata": {},
   "source": [
    "Предлагается также решить задачи: \n",
    "\n",
    "### Задача 3\n",
    "Из двух претендентов E и L на ответственную должность три члена комиссии должны отобрать одного. Каждый член комиссии должен указать либо одного достойного, либо забраковать обоих. Претендент считается выбранным, если он был признана достойным хотя бы двумя членами комиссии.\n",
    "Найти вероятность событий:\n",
    "\n",
    "A = {рекомендован L}, B = {рекомендован E}\n"
   ]
  },
  {
   "cell_type": "code",
   "execution_count": 4,
   "metadata": {},
   "outputs": [],
   "source": [
    "df = pd.DataFrame(np.random.choice(['L', 'E'], (1000000, 3)), columns=['member_1', 'member_2', 'member_3'])"
   ]
  },
  {
   "cell_type": "code",
   "execution_count": 5,
   "metadata": {},
   "outputs": [
    {
     "name": "stdout",
     "output_type": "stream",
     "text": [
      "P(A) = 0.500043\n",
      "P(B) = 0.499957\n"
     ]
    }
   ],
   "source": [
    "choice_L = len(df[df.isin(['L']).sum(axis=1) >= 2]) / len(df)\n",
    "choice_E = len(df[df.isin(['E']).sum(axis=1) >= 2]) / len(df)\n",
    "\n",
    "print('P(A) =', choice_L)\n",
    "print('P(B) =', choice_E)"
   ]
  },
  {
   "cell_type": "markdown",
   "metadata": {
    "id": "peM38mVfYa5B"
   },
   "source": [
    "### Задача 4\n",
    "Брошено две игральных кости. Описать множество элементарных событий. Найти вероятности событий:\n",
    "\n",
    "A = {вышло две \"шестерки\"}\n",
    "\n",
    "B = {сумма выпавших очков не меньше 11}\n",
    "\n",
    "C = {не выпала ни одна \"шестерка\"}"
   ]
  },
  {
   "cell_type": "code",
   "execution_count": 6,
   "metadata": {},
   "outputs": [],
   "source": [
    "df = pd.DataFrame(np.random.choice(np.arange(1, 7), (1000000, 2)), columns=['cube1', 'cube2'])"
   ]
  },
  {
   "cell_type": "code",
   "execution_count": 7,
   "metadata": {},
   "outputs": [
    {
     "name": "stdout",
     "output_type": "stream",
     "text": [
      "P(A) = 0.027846\n",
      "P(B) = 0.972154\n",
      "P(C) = 0.694565\n"
     ]
    }
   ],
   "source": [
    "doubleSix = (df.isin([6]).sum(axis=1) == 2).sum() / len(df)\n",
    "underTwelve = len(df[df.cube1 + df.cube2 <= 11]) / len(df) # или 1 - doubleSix\n",
    "noSix = (df.isin([6]).sum(axis=1) == 0).sum() / len(df)\n",
    "print('P(A) =', doubleSix)\n",
    "print('P(B) =', underTwelve)\n",
    "print('P(C) =', noSix)"
   ]
  },
  {
   "cell_type": "markdown",
   "metadata": {
    "id": "f-Bi0p8haclB"
   },
   "source": [
    "## Вероятность суммы событий"
   ]
  },
  {
   "cell_type": "markdown",
   "metadata": {
    "id": "g7A7QlvGTnwZ"
   },
   "source": [
    "### Задача 5\n",
    "Брошены две игральные кости. Найти вероятность события D = {выпала хотя бы одна шестёрка}\n"
   ]
  },
  {
   "cell_type": "code",
   "execution_count": 8,
   "metadata": {
    "id": "vjtTJN-kUp9D"
   },
   "outputs": [],
   "source": [
    "df = pd.DataFrame(np.random.choice(np.arange(1, 7), (1000000, 2)), columns=['cube1', 'cube2'])"
   ]
  },
  {
   "cell_type": "code",
   "execution_count": 9,
   "metadata": {},
   "outputs": [
    {
     "name": "stdout",
     "output_type": "stream",
     "text": [
      "P(D) = 0.305665\n"
     ]
    }
   ],
   "source": [
    "haveSix = (df.isin([6]).sum(axis=1) > 0).sum() / len(df)\n",
    "print('P(D) =', haveSix)"
   ]
  },
  {
   "cell_type": "markdown",
   "metadata": {
    "id": "R1bYSzQQbC6I"
   },
   "source": [
    "Предлагается также решить задачи: \n",
    "\n",
    "### Задача 6\n",
    "В телефонном номере три последние цифры стерлись. Считая, что все возможные значения стершихся цифр равновероятны, найти вероятность событий:\n",
    "\n",
    "A = {Стерлись различные цифры},\n",
    "\n",
    "B = {Стерлись одинаковые цифры},\n",
    "\n",
    "C = {Среди стершихся цифр хотя бы две совпадают},\n",
    "\n",
    "D = {Среди стершихся цифр хотя бы две различны}\n"
   ]
  },
  {
   "cell_type": "code",
   "execution_count": 10,
   "metadata": {},
   "outputs": [],
   "source": [
    "df = pd.DataFrame(np.random.choice(np.arange(0, 10), (1000000, 3)), columns=['num1', 'num2', 'num3'])"
   ]
  },
  {
   "cell_type": "code",
   "execution_count": 11,
   "metadata": {},
   "outputs": [
    {
     "name": "stdout",
     "output_type": "stream",
     "text": [
      "P(A) = 0.719142\n",
      "P(B) = 0.010042\n",
      "P(C) = 0.280858\n",
      "P(D) = 0.989958\n"
     ]
    }
   ],
   "source": [
    "A = len(df[(df.num1 != df.num2) & (df.num1 != df.num3) & (df.num2 != df.num3)]) / len(df)\n",
    "B = len(df[(df.num1 == df.num2) & (df.num1 == df.num3)]) / len(df)\n",
    "C = len(df[(df.num1 == df.num2) | (df.num1 == df.num3) | (df.num2 == df.num3)]) / len(df)\n",
    "D = len(df[(df.num1 != df.num2) | (df.num1 != df.num3) | (df.num2 != df.num3)]) / len(df)\n",
    "\n",
    "print('P(A) =', A)\n",
    "print('P(B) =', B)\n",
    "print('P(C) =', C)\n",
    "print('P(D) =', D)"
   ]
  },
  {
   "cell_type": "markdown",
   "metadata": {
    "id": "RnugkR8BalK_"
   },
   "source": [
    "## Случайные величины"
   ]
  },
  {
   "cell_type": "markdown",
   "metadata": {
    "id": "yLoZDZ17UVsp"
   },
   "source": [
    "### Задача 7\n",
    "В лотерее имеется 10 билетов, из которых один выигрышный. Размер выигрыша 10 ден. ед.; стоимость билета 1 ден ед. Найти закон распределения случайной величины X, равной чистому выигрышу участника лотереи, который вытаскивает билет первым."
   ]
  },
  {
   "cell_type": "code",
   "execution_count": 12,
   "metadata": {
    "id": "oNk432sKUqzT"
   },
   "outputs": [],
   "source": [
    "# У первого игрока, вытаскивающего билет, чистый выигрыш или -1 или +9, если правильно условие понял.  Распределение Бернулли.\n",
    "df = pd.DataFrame(np.random.choice([0, 10], (1000000, 1), p=[0.9, 0.1]), columns=['result'])"
   ]
  },
  {
   "cell_type": "code",
   "execution_count": 13,
   "metadata": {
    "scrolled": true
   },
   "outputs": [
    {
     "data": {
      "text/plain": [
       "-1    0.899592\n",
       " 9    0.100408\n",
       "Name: net_win, dtype: float64"
      ]
     },
     "execution_count": 13,
     "metadata": {},
     "output_type": "execute_result"
    }
   ],
   "source": [
    "df['net_win'] = df.result - 1\n",
    "df['net_win'].value_counts().sort_index() / len(df)"
   ]
  },
  {
   "cell_type": "code",
   "execution_count": 14,
   "metadata": {},
   "outputs": [
    {
     "data": {
      "text/plain": [
       "<AxesSubplot:>"
      ]
     },
     "execution_count": 14,
     "metadata": {},
     "output_type": "execute_result"
    },
    {
     "data": {
      "image/png": "[encoded data removed]",
      "text/plain": [
       "<Figure size 432x288 with 1 Axes>"
      ]
     },
     "metadata": {
      "needs_background": "light"
     },
     "output_type": "display_data"
    }
   ],
   "source": [
    "df['net_win'].value_counts().plot(kind='bar')"
   ]
  },
  {
   "cell_type": "markdown",
   "metadata": {
    "id": "U-NK9liSbpvb"
   },
   "source": [
    "Предлагается также решить задачу: \n",
    "\n",
    "### Задача 8\n",
    "Брошены две игральные кости. Найти закон распределения случайной величины $X$, равной сумме выпавших очков. Найти вероятности событий ${X <= 4}$, ${X > 4}$"
   ]
  },
  {
   "cell_type": "code",
   "execution_count": 15,
   "metadata": {},
   "outputs": [],
   "source": [
    "df = pd.DataFrame(np.random.choice(np.arange(1, 7), (1000000, 2)), columns=['cube1', 'cube2'])\n",
    "df['overall'] = df.cube1 + df.cube2"
   ]
  },
  {
   "cell_type": "code",
   "execution_count": 16,
   "metadata": {},
   "outputs": [
    {
     "data": {
      "text/plain": [
       "2     0.027913\n",
       "3     0.055499\n",
       "4     0.083467\n",
       "5     0.111221\n",
       "6     0.138581\n",
       "7     0.166344\n",
       "8     0.138694\n",
       "9     0.111250\n",
       "10    0.083469\n",
       "11    0.055735\n",
       "12    0.027827\n",
       "Name: overall, dtype: float64"
      ]
     },
     "execution_count": 16,
     "metadata": {},
     "output_type": "execute_result"
    }
   ],
   "source": [
    "df['overall'].value_counts().sort_index() / len(df)"
   ]
  },
  {
   "cell_type": "code",
   "execution_count": 17,
   "metadata": {
    "scrolled": true
   },
   "outputs": [
    {
     "data": {
      "image/png": "[encoded data removed]",
      "text/plain": [
       "<Figure size 432x288 with 1 Axes>"
      ]
     },
     "metadata": {
      "needs_background": "light"
     },
     "output_type": "display_data"
    }
   ],
   "source": [
    "plt = df['overall'].value_counts().sort_index().plot(kind='bar')"
   ]
  },
  {
   "cell_type": "code",
   "execution_count": 18,
   "metadata": {},
   "outputs": [
    {
     "data": {
      "text/plain": [
       "<AxesSubplot:title={'center':'Функция распределения'}>"
      ]
     },
     "execution_count": 18,
     "metadata": {},
     "output_type": "execute_result"
    },
    {
     "data": {
      "image/png": "[encoded data removed]",
      "text/plain": [
       "<Figure size 432x288 with 1 Axes>"
      ]
     },
     "metadata": {
      "needs_background": "light"
     },
     "output_type": "display_data"
    }
   ],
   "source": [
    "(df['overall'].value_counts().sort_index() / len(df)).expanding().sum().plot(title='Функция распределения')"
   ]
  },
  {
   "cell_type": "code",
   "execution_count": 19,
   "metadata": {},
   "outputs": [
    {
     "name": "stdout",
     "output_type": "stream",
     "text": [
      "Вероятность суммы <= 4:\n"
     ]
    },
    {
     "data": {
      "text/plain": [
       "0.166879"
      ]
     },
     "execution_count": 19,
     "metadata": {},
     "output_type": "execute_result"
    }
   ],
   "source": [
    "print('Вероятность суммы <= 4:')\n",
    "(df['overall'] <= 4).sum() / len(df)"
   ]
  },
  {
   "cell_type": "code",
   "execution_count": 20,
   "metadata": {},
   "outputs": [
    {
     "name": "stdout",
     "output_type": "stream",
     "text": [
      "Вероятность суммы > 4:\n"
     ]
    },
    {
     "data": {
      "text/plain": [
       "0.833121"
      ]
     },
     "execution_count": 20,
     "metadata": {},
     "output_type": "execute_result"
    }
   ],
   "source": [
    "print('Вероятность суммы > 4:')\n",
    "(df['overall'] > 4).sum() / len(df)"
   ]
  },
  {
   "cell_type": "markdown",
   "metadata": {
    "id": "shgW4D83awjK"
   },
   "source": [
    "## Условные вероятности"
   ]
  },
  {
   "cell_type": "markdown",
   "metadata": {
    "id": "Fbu1RFZwWZrk"
   },
   "source": [
    "### Задача 9\n",
    "Из колоды (36 карт) вынимают последовательно без возвращения две карты. Найти вероятность того, что первой картой была шестерка, а второй — семерка. Найти условную вероятность того же события при условии, что обе карты бубновой масти.\n"
   ]
  },
  {
   "cell_type": "code",
   "execution_count": 21,
   "metadata": {
    "id": "037o56awW9-E"
   },
   "outputs": [],
   "source": [
    "card_values = ['6','7', '8', '9', '10', 'J', 'Q', 'K', 'A']\n",
    "card_suits = ['h', 'd', 'c', 's']\n",
    "card_deck = []\n",
    "for i in card_values * len(card_suits):\n",
    "    card_deck.append(i + card_suits[len(card_deck) // len(card_values)])"
   ]
  },
  {
   "cell_type": "code",
   "execution_count": 22,
   "metadata": {},
   "outputs": [],
   "source": [
    "# составляем возможные сочетания по 2 карты с учётом порядка появления.\n",
    "# пробовал сразу создавать dataframe такой командой:\n",
    "# pd.DataFrame([np.random.choice(card_deck, (1, 2), replace=False) for i in range(1000000)], columns=['cards']),\n",
    "# но такой код отрабатывал существенно медленнее, чем через создание отдельного списка с сочетаниями карт\n",
    "combinations = []\n",
    "for i in card_deck:\n",
    "    for j in card_deck:\n",
    "        if i != j:\n",
    "            combinations.append(i + j)"
   ]
  },
  {
   "cell_type": "code",
   "execution_count": 23,
   "metadata": {},
   "outputs": [],
   "source": [
    "df = pd.DataFrame(np.random.choice(combinations, (1000000, 1)), columns=['cards'])\n",
    "df = pd.DataFrame(list(zip(map(lambda x: x[:2], df.cards.values), map(lambda x: x[2:], df.cards.values))),\\\n",
    "                   columns=['card1', 'card2'])"
   ]
  },
  {
   "cell_type": "code",
   "execution_count": 24,
   "metadata": {},
   "outputs": [
    {
     "name": "stdout",
     "output_type": "stream",
     "text": [
      "Вероятность 1-й шестёрки, 2-й семерки: 0.012692\n",
      "Вероятность 1-й шестёрки бубей, 2-й семерки бубей: 0.000791\n"
     ]
    }
   ],
   "source": [
    "A = len(df[(df.card1.isin(['6h', '6d', '6c', '6s'])) & (df.card2.isin(['7h', '7d', '7c', '7s']))]) / len(df)\n",
    "B = len(df[(df.card1 == '6d') & (df.card2 == '7d')]) / len(df)\n",
    "\n",
    "print('Вероятность 1-й шестёрки, 2-й семерки:', A)\n",
    "print('Вероятность 1-й шестёрки бубей, 2-й семерки бубей:', B)"
   ]
  },
  {
   "cell_type": "markdown",
   "metadata": {
    "id": "hNVxtaz5c57b"
   },
   "source": [
    "Предлагается также решить задачу: \n",
    "\n",
    "### Задача 10\n",
    "Из урны, содержащей два белых и три черных шара, последовательно извлекают два шара; вынутые шары не возвращаются. Если первый шар оказался черным, то перед вторым извлечением в урну добавляют белый шар. В противном случае состав оставшихся шаров не меняют. Найти вероятности событий:\n",
    "\n",
    "$A$ = {извлечены два белых шара},\n",
    "\n",
    "$B$ = {извлечены два черных шара}\n",
    "\n",
    "Указание. Пусть событие $C_1$ = {первый шар белый}, событие $C_2$ = {второй шар белый}. Тогда $A = C_1C_2$, $B = \\overline C_1 \\overline C_2$ "
   ]
  },
  {
   "cell_type": "code",
   "execution_count": 25,
   "metadata": {
    "id": "WSLnhk2sdBt_"
   },
   "outputs": [],
   "source": [
    "# создаём dataframe и заполняем первый столбец - результаты извлечения первого шара\n",
    "df = pd.DataFrame(np.random.choice(['white', 'black'], (1000000, 1), p=[2/5, 3/5]), columns=['first'])"
   ]
  },
  {
   "cell_type": "code",
   "execution_count": 26,
   "metadata": {},
   "outputs": [],
   "source": [
    "# добавляем столбец с результатами извелечения второго шара\n",
    "df['second'] = None\n",
    "df.loc[df['first'] == 'black', ['second']] = np.random.choice(['white', 'black'], \\\n",
    "                                                              (len(df[df['first'] == 'black']), 1), p=[3/5, 2/5])\n",
    "df.loc[df['first'] == 'white', ['second']] = np.random.choice(['white', 'black'], \\\n",
    "                                                              (len(df[df['first'] == 'white']), 1), p=[2/4, 2/4])"
   ]
  },
  {
   "cell_type": "code",
   "execution_count": 27,
   "metadata": {},
   "outputs": [
    {
     "name": "stdout",
     "output_type": "stream",
     "text": [
      "P(A) = 0.200256\n",
      "P(B) = 0.240644\n"
     ]
    }
   ],
   "source": [
    "twoWhite = len(df[(df['first'] == 'white') & (df['second'] == 'white')]) / len(df)\n",
    "twoBlack = len(df[(df['first'] == 'black') & (df['second'] == 'black')]) / len(df)\n",
    "\n",
    "print('P(A) =', twoWhite)\n",
    "print('P(B) =', twoBlack)"
   ]
  }
 ],
 "metadata": {
  "colab": {
   "collapsed_sections": [],
   "name": "Практика к занятию 11.ipynb",
   "provenance": []
  },
  "kernelspec": {
   "display_name": "Python 3",
   "language": "python",
   "name": "python3"
  },
  "language_info": {
   "codemirror_mode": {
    "name": "ipython",
    "version": 3
   },
   "file_extension": ".py",
   "mimetype": "text/x-python",
   "name": "python",
   "nbconvert_exporter": "python",
   "pygments_lexer": "ipython3",
   "version": "3.8.8"
  }
 },
 "nbformat": 4,
 "nbformat_minor": 1
}
