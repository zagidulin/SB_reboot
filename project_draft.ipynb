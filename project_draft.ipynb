{
 "cells": [
  {
   "cell_type": "code",
   "execution_count": 1,
   "metadata": {},
   "outputs": [],
   "source": [
    "import pandas as pd\n",
    "import numpy as np\n",
    "import re\n",
    "import pymorphy2\n",
    "import nltk\n",
    "from nltk.corpus import stopwords\n",
    "from sklearn.feature_extraction.text import TfidfVectorizer, CountVectorizer\n",
    "from sklearn.metrics.pairwise import cosine_similarity"
   ]
  },
  {
   "cell_type": "markdown",
   "metadata": {},
   "source": [
    "### Создать DF с вакансиями"
   ]
  },
  {
   "cell_type": "code",
   "execution_count": 2,
   "metadata": {},
   "outputs": [],
   "source": [
    "vacancy_df = pd.read_csv('data_0402.csv')"
   ]
  },
  {
   "cell_type": "code",
   "execution_count": 3,
   "metadata": {},
   "outputs": [
    {
     "data": {
      "text/plain": [
       "Сбер для экспертов                 49.885220\n",
       "Сбер. IT                           25.392901\n",
       "Сбер. Начало карьеры               21.561010\n",
       "Сбер. Работа с клиентами            1.289069\n",
       "Сбер. Экспертам и руководителям     1.218435\n",
       "Сбер. Data Science                  0.565072\n",
       "Сбер. Кибербезопасность             0.088292\n",
       "Name: department, dtype: float64"
      ]
     },
     "execution_count": 3,
     "metadata": {},
     "output_type": "execute_result"
    }
   ],
   "source": [
    "vacancy_df.department.value_counts(normalize=True)*100"
   ]
  },
  {
   "cell_type": "markdown",
   "metadata": {},
   "source": [
    "# Предобработка данных"
   ]
  },
  {
   "cell_type": "code",
   "execution_count": 3,
   "metadata": {},
   "outputs": [],
   "source": [
    "# удалить  тэги из описаний\n",
    "pattern = r'</*[a-z]+>'\n",
    "vacancy_df.description = vacancy_df.description.apply(lambda x: re.sub(pattern, ' ', x))\n",
    "\n",
    "# удалить лишние пробелы\n",
    "pattern = r'\\s{1}\\s+'\n",
    "vacancy_df.description = vacancy_df.description.apply(lambda x: re.sub(pattern, ' ', x))\n",
    "\n",
    "# # заменить слэш на пробелы (в перечислении вариантов, например: SSL/TLS/mTLS, MySQL/Postgres)\n",
    "# лишнее, т.к. отрабатывается в функции ниже\n",
    "# pattern = r'(\\S)(/)+(\\S)'\n",
    "# vacancy_df.description = vacancy_df.description.apply(lambda x: re.sub(pattern, r'\\1 \\3', x))\n",
    "\n",
    "# заменить \"ё\" на \"е\"\n",
    "pattern = r'<[Ёё]+>'\n",
    "vacancy_df.description = vacancy_df.description.apply(lambda x: re.sub(pattern, 'е', x))\n",
    "\n",
    "# заменить ошибочную английскую 'c' в начале слов на русскую 'с'\n",
    "pattern = r'(c)([а-я]{2,})'\n",
    "vacancy_df.description = vacancy_df.description.apply(lambda x: re.sub(pattern, r'с\\2', x))\n",
    "# заменить ошибочную русскую 'с' на английскую 'c' в начале слов \n",
    "pattern = r'(с)([a-z]{2,})'\n",
    "vacancy_df.description = vacancy_df.description.apply(lambda x: re.sub(pattern, r'c\\2', x))"
   ]
  },
  {
   "cell_type": "code",
   "execution_count": 4,
   "metadata": {},
   "outputs": [],
   "source": [
    "# перевести даты создания и публикации в datetime\n",
    "vacancy_df['created_at'] = pd.to_datetime(vacancy_df['created_at'])\n",
    "vacancy_df['published_at'] = pd.to_datetime(vacancy_df['published_at'])"
   ]
  },
  {
   "cell_type": "markdown",
   "metadata": {},
   "source": [
    "# ЧЕРНОВИК"
   ]
  },
  {
   "cell_type": "code",
   "execution_count": 6,
   "metadata": {},
   "outputs": [],
   "source": [
    "df = vacancy_df.head(1000).copy()"
   ]
  },
  {
   "cell_type": "markdown",
   "metadata": {},
   "source": [
    "## 1. ПРЕДОБРАБОТКА ОПИСАНИЙ"
   ]
  },
  {
   "cell_type": "markdown",
   "metadata": {},
   "source": [
    "Очистка от знаков препинания"
   ]
  },
  {
   "cell_type": "code",
   "execution_count": 7,
   "metadata": {},
   "outputs": [],
   "source": [
    "# удалить знаки пунктуации\n",
    "def remove_trash(string): \n",
    "    pattern = r'[^А-Яа-яA-Za-z0-9+]+'\n",
    "    try:\n",
    "      string = re.sub(pattern, ' ', string)\n",
    "    except Exception as e:\n",
    "      print(e)\n",
    "    return string"
   ]
  },
  {
   "cell_type": "code",
   "execution_count": 8,
   "metadata": {},
   "outputs": [],
   "source": [
    "df['desc_clean'] = df.description.apply(remove_trash)"
   ]
  },
  {
   "cell_type": "markdown",
   "metadata": {},
   "source": [
    "Создание списка стоп-слов"
   ]
  },
  {
   "cell_type": "code",
   "execution_count": 9,
   "metadata": {},
   "outputs": [
    {
     "name": "stderr",
     "output_type": "stream",
     "text": [
      "[nltk_data] Downloading package stopwords to\n",
      "[nltk_data]     C:\\Users\\Artur\\AppData\\Roaming\\nltk_data...\n",
      "[nltk_data]   Package stopwords is already up-to-date!\n"
     ]
    },
    {
     "data": {
      "text/plain": [
       "True"
      ]
     },
     "execution_count": 9,
     "metadata": {},
     "output_type": "execute_result"
    }
   ],
   "source": [
    "# стоп слова\n",
    "nltk.download('stopwords')"
   ]
  },
  {
   "cell_type": "code",
   "execution_count": 9,
   "metadata": {},
   "outputs": [],
   "source": [
    "stop_words_ru = stopwords.words('russian')"
   ]
  },
  {
   "cell_type": "code",
   "execution_count": 10,
   "metadata": {},
   "outputs": [],
   "source": [
    "stop_words_ru.extend(['вакансия', 'каждый', 'который', 'команда', 'любой', 'наш', 'самый', 'сбер', 'сбербанк', 'сберпрайм', 'сберпрайм+', 'сбербизнес', 'свой', 'экосистема', 'подразделение', 'интересный', 'работодатель', 'хороший', 'откликнуться', 'детский', 'родитель'])"
   ]
  },
  {
   "cell_type": "code",
   "execution_count": 11,
   "metadata": {},
   "outputs": [],
   "source": [
    "# часто вречающийся общий текст в описании (разбить на слова и добавить в stop_words)\n",
    "string = 'подготовить ты ипотека выгодный каждый сотрудник льготный условие первый льготный страхование близкий бесплатный подписка сберпрайм+ скидка продукт компания партнёр okko сбер маркет delivery club самокат ситимобила сбер еаптека другой обучение счёт компания онлайн курс виртуальный школа возможность получить новый квалификация курс будущий родитель материальный поддержка молодой детский отдых подарок счёт компания реферальный программа сотрудник можно пригласить команда знакомый профессионал получить вознаграждение рубль корпоративный пенсионный программа интересный вакансия откликнуться записать видеоинтервью ссылка письмо любой удобный устройство пройти собеседование'\n",
    "string = string.split()\n",
    "stop_words_ru.extend(string)\n",
    "stop_words_ru = list(set(stop_words_ru))"
   ]
  },
  {
   "cell_type": "markdown",
   "metadata": {},
   "source": [
    "нормализация описания (избавление от различных форм слов)"
   ]
  },
  {
   "cell_type": "code",
   "execution_count": 12,
   "metadata": {},
   "outputs": [],
   "source": [
    "# лемматизация\n",
    "morph = pymorphy2.MorphAnalyzer()"
   ]
  },
  {
   "cell_type": "code",
   "execution_count": 15,
   "metadata": {},
   "outputs": [],
   "source": [
    "# функция лемматизации\n",
    "def lemmatize(data, col=None):\n",
    "    t = []\n",
    "    if type(data) == pd.core.series.Series:\n",
    "        text = data[col]\n",
    "    else:\n",
    "        text = data\n",
    "    for word in text.split():\n",
    "        if len(word)<=3:\n",
    "            continue\n",
    "        p = morph.parse(word)[0]\n",
    "        t.append(p.normal_form)\n",
    "    return \" \".join(t)"
   ]
  },
  {
   "cell_type": "code",
   "execution_count": 16,
   "metadata": {},
   "outputs": [],
   "source": [
    "df['desc_normal'] = df.apply(lemmatize, axis=1, col='desc_clean')"
   ]
  },
  {
   "cell_type": "code",
   "execution_count": null,
   "metadata": {},
   "outputs": [],
   "source": [
    "# исключить вакансии на английском\n",
    "# примитивный вариант поиска вакансий на английском\n",
    "\n",
    "# pattern = r'[^А-Яа-я]+\\s+[^А-Яа-я]+\\s+[^А-Яа-я]+\\s+[^А-Яа-я]+\\s+[^А-Яа-я]+\\s+[^А-Яа-я]+[^А-Яа-я]+\\s+[^А-Яа-я]'\n",
    "# arr = []\n",
    "# for i in df['desc_normal']:\n",
    "#     test = re.match(pattern, i)\n",
    "#     if test != None:\n",
    "#         arr.append(i)\n",
    "# arr"
   ]
  },
  {
   "cell_type": "markdown",
   "metadata": {},
   "source": [
    "## 2. ТОКЕНИЗАЦИЯ ОПИСАНИЙ"
   ]
  },
  {
   "cell_type": "markdown",
   "metadata": {},
   "source": [
    "### МЕТОД 1. Граф векторизатор"
   ]
  },
  {
   "cell_type": "code",
   "execution_count": 19,
   "metadata": {},
   "outputs": [],
   "source": [
    "vec_CV = CountVectorizer(stop_words=stop_words_ru, min_df=3)"
   ]
  },
  {
   "cell_type": "code",
   "execution_count": 20,
   "metadata": {},
   "outputs": [],
   "source": [
    "desc_vectors_CV = vec_CV.fit_transform(df['desc_normal'])"
   ]
  },
  {
   "cell_type": "code",
   "execution_count": 21,
   "metadata": {},
   "outputs": [
    {
     "name": "stdout",
     "output_type": "stream",
     "text": [
      "Vocabulary length: 3143\n"
     ]
    }
   ],
   "source": [
    "print('Vocabulary length:', len(vec_CV.get_feature_names()))"
   ]
  },
  {
   "cell_type": "markdown",
   "metadata": {},
   "source": [
    "Добавление в DF векторных представлений описаний"
   ]
  },
  {
   "cell_type": "code",
   "execution_count": 22,
   "metadata": {},
   "outputs": [],
   "source": [
    "df['CV_vec'] = list(desc_vectors_CV.toarray())"
   ]
  },
  {
   "cell_type": "markdown",
   "metadata": {},
   "source": [
    "Предобработка опыта"
   ]
  },
  {
   "cell_type": "code",
   "execution_count": 23,
   "metadata": {},
   "outputs": [],
   "source": [
    "expirience = '''Консультирование и продажа банковских продуктов: открытие вкладов, кредитов, кредитных и дебетовых карт, \\\n",
    "подключение автоплатежей, продажа инвестиционных продуктов, переводы и т.д.'''"
   ]
  },
  {
   "cell_type": "code",
   "execution_count": 24,
   "metadata": {},
   "outputs": [
    {
     "data": {
      "text/plain": [
       "'Консультирование и продажа банковских продуктов открытие вкладов кредитов кредитных и дебетовых карт подключение автоплатежей продажа инвестиционных продуктов переводы и т д '"
      ]
     },
     "execution_count": 24,
     "metadata": {},
     "output_type": "execute_result"
    }
   ],
   "source": [
    "# удаление знаков препинания\n",
    "expirience = remove_trash(expirience)\n",
    "expirience"
   ]
  },
  {
   "cell_type": "code",
   "execution_count": 25,
   "metadata": {},
   "outputs": [
    {
     "data": {
      "text/plain": [
       "'консультирование продажа банковский продукт открытие вклад кредит кредитный дебетовый карта подключение автоплатёж продажа инвестиционный продукт перевод'"
      ]
     },
     "execution_count": 25,
     "metadata": {},
     "output_type": "execute_result"
    }
   ],
   "source": [
    "# нормализация\n",
    "expirience = lemmatize(expirience)\n",
    "expirience"
   ]
  },
  {
   "cell_type": "markdown",
   "metadata": {},
   "source": [
    "Токенизация опыта из резюме"
   ]
  },
  {
   "cell_type": "code",
   "execution_count": 27,
   "metadata": {},
   "outputs": [],
   "source": [
    "vec_exp_CV = CountVectorizer(stop_words=stop_words_ru, vocabulary=vec_CV.get_feature_names())"
   ]
  },
  {
   "cell_type": "code",
   "execution_count": 28,
   "metadata": {},
   "outputs": [],
   "source": [
    "exp_vector_CV = vec_exp_CV.fit_transform([expirience])"
   ]
  },
  {
   "cell_type": "markdown",
   "metadata": {},
   "source": [
    "Определение косинусного сходства опыта с описаниями вакансий"
   ]
  },
  {
   "cell_type": "code",
   "execution_count": 29,
   "metadata": {},
   "outputs": [],
   "source": [
    "# функция для определения косинусного ходства двух векторов\n",
    "def cosine_sim_vectors(vec1, vec2):    \n",
    "    return cosine_similarity([vec1, vec2])[1][0]"
   ]
  },
  {
   "cell_type": "code",
   "execution_count": 30,
   "metadata": {},
   "outputs": [],
   "source": [
    "df['CV_cosine'] = df['CV_vec'].apply(cosine_sim_vectors, vec2=exp_vector_CV.toarray()[0])"
   ]
  },
  {
   "cell_type": "code",
   "execution_count": 32,
   "metadata": {},
   "outputs": [],
   "source": [
    "top_10_CV = df.sort_values(by='CV_cosine', ascending=False).head(10)"
   ]
  },
  {
   "cell_type": "code",
   "execution_count": 34,
   "metadata": {},
   "outputs": [
    {
     "data": {
      "text/html": [
       "<div>\n",
       "<style scoped>\n",
       "    .dataframe tbody tr th:only-of-type {\n",
       "        vertical-align: middle;\n",
       "    }\n",
       "\n",
       "    .dataframe tbody tr th {\n",
       "        vertical-align: top;\n",
       "    }\n",
       "\n",
       "    .dataframe thead th {\n",
       "        text-align: right;\n",
       "    }\n",
       "</style>\n",
       "<table border=\"1\" class=\"dataframe\">\n",
       "  <thead>\n",
       "    <tr style=\"text-align: right;\">\n",
       "      <th></th>\n",
       "      <th>name</th>\n",
       "      <th>description</th>\n",
       "      <th>specializations</th>\n",
       "    </tr>\n",
       "  </thead>\n",
       "  <tbody>\n",
       "    <tr>\n",
       "      <th>866</th>\n",
       "      <td>Старший клиентский менеджер отдела по работе с...</td>\n",
       "      <td>Обязанности: формирование потребности и разви...</td>\n",
       "      <td>['Прямые продажи', 'Оптовая торговля', 'Менедж...</td>\n",
       "    </tr>\n",
       "    <tr>\n",
       "      <th>757</th>\n",
       "      <td>Руководитель Премьер офиса</td>\n",
       "      <td>Обязанности: организация работы ВИП офиса в с...</td>\n",
       "      <td>['Розничная торговля', 'Прямые продажи', 'Мене...</td>\n",
       "    </tr>\n",
       "    <tr>\n",
       "      <th>986</th>\n",
       "      <td>Руководитель Премьер офиса</td>\n",
       "      <td>Обязанности: организация работы ВИП офиса в с...</td>\n",
       "      <td>['Розничная торговля', 'Прямые продажи', 'Мене...</td>\n",
       "    </tr>\n",
       "    <tr>\n",
       "      <th>694</th>\n",
       "      <td>Финансовый советник</td>\n",
       "      <td>Обязанности: вести инвестиционный портфель кл...</td>\n",
       "      <td>['Инвестиционная компания', 'Прямые инвестиции...</td>\n",
       "    </tr>\n",
       "    <tr>\n",
       "      <th>777</th>\n",
       "      <td>Консультант по работе с Пенсионным Фондом России</td>\n",
       "      <td>Обязанности: - организация качественного пров...</td>\n",
       "      <td>['Прямые продажи', 'Оптовая торговля', 'Менедж...</td>\n",
       "    </tr>\n",
       "    <tr>\n",
       "      <th>39</th>\n",
       "      <td>Территориальный менеджер по продуктам глобальн...</td>\n",
       "      <td>Обязанности: поиск и отбор клиентов для прода...</td>\n",
       "      <td>['Прямые продажи', 'Оптовая торговля', 'Менедж...</td>\n",
       "    </tr>\n",
       "    <tr>\n",
       "      <th>591</th>\n",
       "      <td>Финансовый советник</td>\n",
       "      <td>Сбербанк Первый – это офис премиального обслу...</td>\n",
       "      <td>['Методология, Банковские технологии', 'Разраб...</td>\n",
       "    </tr>\n",
       "    <tr>\n",
       "      <th>192</th>\n",
       "      <td>Клиентский менеджер Сбербанк Первый</td>\n",
       "      <td>Сбербанк Первый – это офис премиального обслу...</td>\n",
       "      <td>['Прямые продажи', 'Оптовая торговля', 'Менедж...</td>\n",
       "    </tr>\n",
       "    <tr>\n",
       "      <th>653</th>\n",
       "      <td>Клиентский менеджер (Премьер)</td>\n",
       "      <td>Если ты: имеешь опыт успешных продаж банковск...</td>\n",
       "      <td>['Прямые продажи', 'Оптовая торговля', 'Менедж...</td>\n",
       "    </tr>\n",
       "    <tr>\n",
       "      <th>817</th>\n",
       "      <td>Руководитель ВИП ВСП</td>\n",
       "      <td>Сбербанк Первый – это офис премиального обслу...</td>\n",
       "      <td>['Розничная торговля', 'Прямые продажи', 'Мене...</td>\n",
       "    </tr>\n",
       "  </tbody>\n",
       "</table>\n",
       "</div>"
      ],
      "text/plain": [
       "                                                  name  \\\n",
       "866  Старший клиентский менеджер отдела по работе с...   \n",
       "757                         Руководитель Премьер офиса   \n",
       "986                         Руководитель Премьер офиса   \n",
       "694                                Финансовый советник   \n",
       "777   Консультант по работе с Пенсионным Фондом России   \n",
       "39   Территориальный менеджер по продуктам глобальн...   \n",
       "591                                Финансовый советник   \n",
       "192                Клиентский менеджер Сбербанк Первый   \n",
       "653                      Клиентский менеджер (Премьер)   \n",
       "817                               Руководитель ВИП ВСП   \n",
       "\n",
       "                                           description  \\\n",
       "866   Обязанности: формирование потребности и разви...   \n",
       "757   Обязанности: организация работы ВИП офиса в с...   \n",
       "986   Обязанности: организация работы ВИП офиса в с...   \n",
       "694   Обязанности: вести инвестиционный портфель кл...   \n",
       "777   Обязанности: - организация качественного пров...   \n",
       "39    Обязанности: поиск и отбор клиентов для прода...   \n",
       "591   Сбербанк Первый – это офис премиального обслу...   \n",
       "192   Сбербанк Первый – это офис премиального обслу...   \n",
       "653   Если ты: имеешь опыт успешных продаж банковск...   \n",
       "817   Сбербанк Первый – это офис премиального обслу...   \n",
       "\n",
       "                                       specializations  \n",
       "866  ['Прямые продажи', 'Оптовая торговля', 'Менедж...  \n",
       "757  ['Розничная торговля', 'Прямые продажи', 'Мене...  \n",
       "986  ['Розничная торговля', 'Прямые продажи', 'Мене...  \n",
       "694  ['Инвестиционная компания', 'Прямые инвестиции...  \n",
       "777  ['Прямые продажи', 'Оптовая торговля', 'Менедж...  \n",
       "39   ['Прямые продажи', 'Оптовая торговля', 'Менедж...  \n",
       "591  ['Методология, Банковские технологии', 'Разраб...  \n",
       "192  ['Прямые продажи', 'Оптовая торговля', 'Менедж...  \n",
       "653  ['Прямые продажи', 'Оптовая торговля', 'Менедж...  \n",
       "817  ['Розничная торговля', 'Прямые продажи', 'Мене...  "
      ]
     },
     "execution_count": 34,
     "metadata": {},
     "output_type": "execute_result"
    }
   ],
   "source": [
    "top_10_CV[[\"name\", \"description\", \"specializations\"]]"
   ]
  },
  {
   "cell_type": "markdown",
   "metadata": {},
   "source": [
    "### МЕТОД 2. TfidfVectorizer"
   ]
  },
  {
   "cell_type": "code",
   "execution_count": 35,
   "metadata": {},
   "outputs": [],
   "source": [
    "vec_TV = TfidfVectorizer(stop_words=stop_words_ru, min_df=3)"
   ]
  },
  {
   "cell_type": "code",
   "execution_count": 36,
   "metadata": {},
   "outputs": [],
   "source": [
    "desc_vectors_Tfid = vec_TV.fit_transform(df['desc_normal'])"
   ]
  },
  {
   "cell_type": "code",
   "execution_count": 37,
   "metadata": {},
   "outputs": [],
   "source": [
    "df['TV_vec'] = list(desc_vectors_Tfid.toarray())"
   ]
  },
  {
   "cell_type": "code",
   "execution_count": 39,
   "metadata": {},
   "outputs": [],
   "source": [
    "# токенизация описания опыта\n",
    "vec_exp_TV = TfidfVectorizer(stop_words=stop_words_ru, vocabulary=vec_TV.get_feature_names())"
   ]
  },
  {
   "cell_type": "code",
   "execution_count": 40,
   "metadata": {},
   "outputs": [],
   "source": [
    "exp_vector_TV = vec_exp_TV.fit_transform([expirience])"
   ]
  },
  {
   "cell_type": "code",
   "execution_count": 41,
   "metadata": {},
   "outputs": [
    {
     "data": {
      "text/plain": [
       "3.2071349029490923"
      ]
     },
     "execution_count": 41,
     "metadata": {},
     "output_type": "execute_result"
    }
   ],
   "source": [
    "sum(exp_vector_TV.toarray()[0])"
   ]
  },
  {
   "cell_type": "code",
   "execution_count": 42,
   "metadata": {},
   "outputs": [
    {
     "data": {
      "text/plain": [
       "12"
      ]
     },
     "execution_count": 42,
     "metadata": {},
     "output_type": "execute_result"
    }
   ],
   "source": [
    "sum(exp_vector_CV.toarray()[0])"
   ]
  },
  {
   "cell_type": "code",
   "execution_count": 43,
   "metadata": {},
   "outputs": [],
   "source": [
    "df['TV_cosine'] = df['TV_vec'].apply(cosine_sim_vectors, vec2=exp_vector_TV.toarray()[0])"
   ]
  },
  {
   "cell_type": "code",
   "execution_count": 44,
   "metadata": {},
   "outputs": [],
   "source": [
    "top_10_TV = df.sort_values(by='TV_cosine', ascending=False).head(10)"
   ]
  },
  {
   "cell_type": "code",
   "execution_count": 45,
   "metadata": {},
   "outputs": [
    {
     "data": {
      "text/html": [
       "<div>\n",
       "<style scoped>\n",
       "    .dataframe tbody tr th:only-of-type {\n",
       "        vertical-align: middle;\n",
       "    }\n",
       "\n",
       "    .dataframe tbody tr th {\n",
       "        vertical-align: top;\n",
       "    }\n",
       "\n",
       "    .dataframe thead th {\n",
       "        text-align: right;\n",
       "    }\n",
       "</style>\n",
       "<table border=\"1\" class=\"dataframe\">\n",
       "  <thead>\n",
       "    <tr style=\"text-align: right;\">\n",
       "      <th></th>\n",
       "      <th>name</th>\n",
       "      <th>area</th>\n",
       "      <th>salary</th>\n",
       "      <th>description</th>\n",
       "      <th>specializations</th>\n",
       "    </tr>\n",
       "  </thead>\n",
       "  <tbody>\n",
       "    <tr>\n",
       "      <th>757</th>\n",
       "      <td>Руководитель Премьер офиса</td>\n",
       "      <td>Уфа</td>\n",
       "      <td>NaN</td>\n",
       "      <td>Обязанности: организация работы ВИП офиса в с...</td>\n",
       "      <td>['Розничная торговля', 'Прямые продажи', 'Мене...</td>\n",
       "    </tr>\n",
       "    <tr>\n",
       "      <th>986</th>\n",
       "      <td>Руководитель Премьер офиса</td>\n",
       "      <td>Урай</td>\n",
       "      <td>NaN</td>\n",
       "      <td>Обязанности: организация работы ВИП офиса в с...</td>\n",
       "      <td>['Розничная торговля', 'Прямые продажи', 'Мене...</td>\n",
       "    </tr>\n",
       "    <tr>\n",
       "      <th>288</th>\n",
       "      <td>Клиентский менеджер Сбер Премьер в МИДДЛ-офис</td>\n",
       "      <td>Самара</td>\n",
       "      <td>60100.0</td>\n",
       "      <td>Обязанности: - обслуживание премиальных клиен...</td>\n",
       "      <td>['Прямые продажи', 'Оптовая торговля', 'Менедж...</td>\n",
       "    </tr>\n",
       "    <tr>\n",
       "      <th>866</th>\n",
       "      <td>Старший клиентский менеджер отдела по работе с...</td>\n",
       "      <td>Волгоград</td>\n",
       "      <td>65000.0</td>\n",
       "      <td>Обязанности: формирование потребности и разви...</td>\n",
       "      <td>['Прямые продажи', 'Оптовая торговля', 'Менедж...</td>\n",
       "    </tr>\n",
       "    <tr>\n",
       "      <th>770</th>\n",
       "      <td>Старший клиентский менеджер</td>\n",
       "      <td>Шадринск</td>\n",
       "      <td>36600.0</td>\n",
       "      <td>Если ты хочешь: построить карьеру в банковско...</td>\n",
       "      <td>['Прямые продажи', 'Оптовая торговля', 'Менедж...</td>\n",
       "    </tr>\n",
       "    <tr>\n",
       "      <th>270</th>\n",
       "      <td>Старший клиентский менеджер</td>\n",
       "      <td>Сургут</td>\n",
       "      <td>93500.0</td>\n",
       "      <td>Если ты хочешь: построить карьеру в банковско...</td>\n",
       "      <td>['Прямые продажи', 'Оптовая торговля', 'Менедж...</td>\n",
       "    </tr>\n",
       "    <tr>\n",
       "      <th>856</th>\n",
       "      <td>Старший клиентский менеджер</td>\n",
       "      <td>Когалым</td>\n",
       "      <td>89600.0</td>\n",
       "      <td>Если ты хочешь: построить карьеру в банковско...</td>\n",
       "      <td>['Прямые продажи', 'Оптовая торговля', 'Менедж...</td>\n",
       "    </tr>\n",
       "    <tr>\n",
       "      <th>817</th>\n",
       "      <td>Руководитель ВИП ВСП</td>\n",
       "      <td>Ханты-Мансийск</td>\n",
       "      <td>178000.0</td>\n",
       "      <td>Сбербанк Первый – это офис премиального обслу...</td>\n",
       "      <td>['Розничная торговля', 'Прямые продажи', 'Мене...</td>\n",
       "    </tr>\n",
       "    <tr>\n",
       "      <th>777</th>\n",
       "      <td>Консультант по работе с Пенсионным Фондом России</td>\n",
       "      <td>Красноярск</td>\n",
       "      <td>38500.0</td>\n",
       "      <td>Обязанности: - организация качественного пров...</td>\n",
       "      <td>['Прямые продажи', 'Оптовая торговля', 'Менедж...</td>\n",
       "    </tr>\n",
       "    <tr>\n",
       "      <th>694</th>\n",
       "      <td>Финансовый советник</td>\n",
       "      <td>Южно-Сахалинск</td>\n",
       "      <td>NaN</td>\n",
       "      <td>Обязанности: вести инвестиционный портфель кл...</td>\n",
       "      <td>['Инвестиционная компания', 'Прямые инвестиции...</td>\n",
       "    </tr>\n",
       "  </tbody>\n",
       "</table>\n",
       "</div>"
      ],
      "text/plain": [
       "                                                  name            area  \\\n",
       "757                         Руководитель Премьер офиса             Уфа   \n",
       "986                         Руководитель Премьер офиса            Урай   \n",
       "288      Клиентский менеджер Сбер Премьер в МИДДЛ-офис          Самара   \n",
       "866  Старший клиентский менеджер отдела по работе с...       Волгоград   \n",
       "770                        Старший клиентский менеджер        Шадринск   \n",
       "270                        Старший клиентский менеджер          Сургут   \n",
       "856                        Старший клиентский менеджер         Когалым   \n",
       "817                               Руководитель ВИП ВСП  Ханты-Мансийск   \n",
       "777   Консультант по работе с Пенсионным Фондом России      Красноярск   \n",
       "694                                Финансовый советник  Южно-Сахалинск   \n",
       "\n",
       "       salary                                        description  \\\n",
       "757       NaN   Обязанности: организация работы ВИП офиса в с...   \n",
       "986       NaN   Обязанности: организация работы ВИП офиса в с...   \n",
       "288   60100.0   Обязанности: - обслуживание премиальных клиен...   \n",
       "866   65000.0   Обязанности: формирование потребности и разви...   \n",
       "770   36600.0   Если ты хочешь: построить карьеру в банковско...   \n",
       "270   93500.0   Если ты хочешь: построить карьеру в банковско...   \n",
       "856   89600.0   Если ты хочешь: построить карьеру в банковско...   \n",
       "817  178000.0   Сбербанк Первый – это офис премиального обслу...   \n",
       "777   38500.0   Обязанности: - организация качественного пров...   \n",
       "694       NaN   Обязанности: вести инвестиционный портфель кл...   \n",
       "\n",
       "                                       specializations  \n",
       "757  ['Розничная торговля', 'Прямые продажи', 'Мене...  \n",
       "986  ['Розничная торговля', 'Прямые продажи', 'Мене...  \n",
       "288  ['Прямые продажи', 'Оптовая торговля', 'Менедж...  \n",
       "866  ['Прямые продажи', 'Оптовая торговля', 'Менедж...  \n",
       "770  ['Прямые продажи', 'Оптовая торговля', 'Менедж...  \n",
       "270  ['Прямые продажи', 'Оптовая торговля', 'Менедж...  \n",
       "856  ['Прямые продажи', 'Оптовая торговля', 'Менедж...  \n",
       "817  ['Розничная торговля', 'Прямые продажи', 'Мене...  \n",
       "777  ['Прямые продажи', 'Оптовая торговля', 'Менедж...  \n",
       "694  ['Инвестиционная компания', 'Прямые инвестиции...  "
      ]
     },
     "execution_count": 45,
     "metadata": {},
     "output_type": "execute_result"
    }
   ],
   "source": [
    "top_10_TV[[\"name\", \"area\", \"salary\", \"description\", \"specializations\"]]"
   ]
  }
 ],
 "metadata": {
  "kernelspec": {
   "display_name": "Python 3",
   "language": "python",
   "name": "python3"
  },
  "language_info": {
   "codemirror_mode": {
    "name": "ipython",
    "version": 3
   },
   "file_extension": ".py",
   "mimetype": "text/x-python",
   "name": "python",
   "nbconvert_exporter": "python",
   "pygments_lexer": "ipython3",
   "version": "3.8.8"
  }
 },
 "nbformat": 4,
 "nbformat_minor": 4
}
