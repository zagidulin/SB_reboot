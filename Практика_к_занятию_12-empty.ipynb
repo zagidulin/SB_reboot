{
 "cells": [
  {
   "cell_type": "markdown",
   "metadata": {
    "id": "pDrecLU-4QjS"
   },
   "source": [
    "# Практика"
   ]
  },
  {
   "cell_type": "code",
   "execution_count": 1,
   "metadata": {
    "id": "a6XFMuQUG6jO"
   },
   "outputs": [],
   "source": [
    "import pandas as pd\n",
    "import numpy as np\n",
    "import matplotlib.pyplot as plt\n",
    "import scipy.stats as sts\n",
    "import math\n",
    "from statsmodels.stats.weightstats import _zconfint_generic\n",
    "%matplotlib inline"
   ]
  },
  {
   "cell_type": "markdown",
   "metadata": {
    "id": "5owLnS0MHJnz"
   },
   "source": [
    "## ЦПТ для различных распределений\n",
    "Возьмите то непрерывное распределение, которое вам больше всего понравится из списка доступных в модуле [scipy.stats](https://docs.scipy.org/doc/scipy/reference/stats.html)."
   ]
  },
  {
   "cell_type": "markdown",
   "metadata": {
    "id": "v1IvIGF9IRgH"
   },
   "source": [
    "### Сгенерируйте примеры из распределения"
   ]
  },
  {
   "cell_type": "code",
   "execution_count": 10,
   "metadata": {},
   "outputs": [
    {
     "data": {
      "text/plain": [
       "array([1.47415037, 1.66907683, 2.37188792, 3.12953134, 1.19598943,\n",
       "       1.74576516, 2.56485468, 1.78695609, 2.9824953 , 1.86706803,\n",
       "       0.84231768, 2.02854586, 1.4233749 , 0.38510022, 2.36421759,\n",
       "       1.28158632, 2.02918928, 1.59310284, 1.50624402, 1.79320403,\n",
       "       2.11625034, 3.89339996, 2.23798673, 1.52927431, 0.82523673,\n",
       "       1.7216339 , 1.75176818, 1.87714953, 0.42303316, 1.29605075,\n",
       "       2.19672182, 1.162668  , 1.37803756, 1.1261845 , 0.79077661,\n",
       "       0.64413128, 1.46688339, 1.06612786, 1.35368034, 2.53844757,\n",
       "       1.91843712, 0.66916676, 2.5071055 , 1.10930984, 2.74931746,\n",
       "       1.44563614, 1.89056519, 2.02363656, 1.56042485, 1.33106727,\n",
       "       1.63740595, 1.42726542, 1.42903436, 2.23604213, 0.33853905,\n",
       "       2.90558279, 1.51767853, 0.66764424, 1.43688937, 1.5989197 ,\n",
       "       1.47473872, 1.6666494 , 1.63757808, 1.85406192, 1.84611354,\n",
       "       1.65357326, 1.9889376 , 1.05968294, 1.21851866, 0.53215394,\n",
       "       2.11446037, 1.1383123 , 0.82512512, 1.41405931, 1.29204424,\n",
       "       1.86784223, 2.98771304, 0.80353399, 2.22604524, 0.87137362,\n",
       "       1.77317876, 1.86152213, 1.2346168 , 1.15062744, 2.06333001,\n",
       "       1.27202288, 1.0001347 , 3.52631382, 0.79976311, 1.77742421,\n",
       "       2.3061882 , 0.86267196, 1.16799449, 1.41073156, 1.2772346 ,\n",
       "       1.02055579, 2.25423371, 2.01442677, 0.83289259, 2.3037654 ])"
      ]
     },
     "execution_count": 10,
     "metadata": {},
     "output_type": "execute_result"
    }
   ],
   "source": [
    "maxwell_rv = sts.maxwell()\n",
    "sample = maxwell_rv.rvs(size=100)\n",
    "sample"
   ]
  },
  {
   "cell_type": "code",
   "execution_count": 12,
   "metadata": {},
   "outputs": [
    {
     "data": {
      "text/plain": [
       "1.5957691216057308"
      ]
     },
     "execution_count": 12,
     "metadata": {},
     "output_type": "execute_result"
    }
   ],
   "source": [
    "maxwell_rv.mean()"
   ]
  },
  {
   "cell_type": "code",
   "execution_count": 13,
   "metadata": {},
   "outputs": [
    {
     "data": {
      "text/plain": [
       "0.45352091052967447"
      ]
     },
     "execution_count": 13,
     "metadata": {},
     "output_type": "execute_result"
    }
   ],
   "source": [
    "maxwell_rv.var()"
   ]
  },
  {
   "cell_type": "markdown",
   "metadata": {
    "id": "4bNn15giIX77"
   },
   "source": [
    "### Постройте гистограмму выборки и теоретическую плотность распределения"
   ]
  },
  {
   "cell_type": "code",
   "execution_count": 14,
   "metadata": {
    "colab": {
     "base_uri": "https://localhost:8080/",
     "height": 283
    },
    "id": "CwbvqecvIcXN",
    "outputId": "ace01d5d-2552-499b-bc4f-1eb19166af83",
    "scrolled": true
   },
   "outputs": [
    {
     "data": {
      "text/plain": [
       "<matplotlib.legend.Legend at 0x2243032d8b0>"
      ]
     },
     "execution_count": 14,
     "metadata": {},
     "output_type": "execute_result"
    },
    {
     "data": {
      "image/png": "[encoded data removed]",
      "text/plain": [
       "<Figure size 432x288 with 1 Axes>"
      ]
     },
     "metadata": {
      "needs_background": "light"
     },
     "output_type": "display_data"
    }
   ],
   "source": [
    "# ваш код тут\n",
    "plt.hist(sample, density=True)\n",
    "x = np.linspace(0,4,100)\n",
    "pdf = maxwell_rv.pdf(x)\n",
    "plt.plot(x, pdf, label='теоретическая плотность', alpha=0.5)\n",
    "plt.legend()"
   ]
  },
  {
   "cell_type": "code",
   "execution_count": 15,
   "metadata": {
    "colab": {
     "base_uri": "https://localhost:8080/",
     "height": 51
    },
    "id": "rKd5XFelBqe7",
    "outputId": "32773b82-a3e9-46a2-b06d-a94d667d4f66"
   },
   "outputs": [
    {
     "name": "stdout",
     "output_type": "stream",
     "text": [
      "1.6221191508622286\n",
      "0.44890280991697445\n"
     ]
    }
   ],
   "source": [
    "sample_mean = sample.mean() # выборочное среднее\n",
    "print(sample_mean)\n",
    "sample_var = sample.var() # выборочная дисперсия\n",
    "print(sample_var)"
   ]
  },
  {
   "cell_type": "markdown",
   "metadata": {
    "id": "qPuHR68NId_Z"
   },
   "source": [
    "### Оценим распределение выборочного среднего для разных объёмов выборок\n",
    "Для этого постройте на одном полотне гистограмму выборочных средних и теоретическое распределение выборочных средних по ЦПТ для разных объёмов выборок.\n",
    "\n",
    "Для теоретического распределение используйте настоящие значения мат ожидания и дисперсии (не приближенные на основе выборки)."
   ]
  },
  {
   "cell_type": "code",
   "execution_count": 18,
   "metadata": {
    "id": "_mB8upK7J58w"
   },
   "outputs": [],
   "source": [
    "# сгенерируем выборочные средние для выборок разного объёма\n",
    "means = []\n",
    "for i in range(500, 50001, 500):\n",
    "    means.append(np.mean(maxwell_rv.rvs(i)))\n",
    "# определим средний размер выборки\n",
    "N = sum(range(500, 50001, 500)) / len(means)"
   ]
  },
  {
   "cell_type": "code",
   "execution_count": 19,
   "metadata": {},
   "outputs": [
    {
     "data": {
      "image/png": "[encoded data removed]",
      "text/plain": [
       "<Figure size 432x288 with 1 Axes>"
      ]
     },
     "metadata": {
      "needs_background": "light"
     },
     "output_type": "display_data"
    }
   ],
   "source": [
    "norm_rv = sts.norm(loc=maxwell_rv.mean(), scale=maxwell_rv.std() / np.sqrt(N))\n",
    "plt.hist(means, density=True, bins=20)\n",
    "x = np.linspace(1.56,1.64,num=100)\n",
    "pdf = norm_rv.pdf(x)\n",
    "plt.plot(x, pdf, label='теоретическая плотность', alpha=0.5)\n",
    "plt.legend()\n",
    "plt.show()"
   ]
  },
  {
   "cell_type": "markdown",
   "metadata": {
    "id": "TF1onBy_J7sX"
   },
   "source": [
    "Как вы считаете, для выбранного распределения апроксимация распределения выборочного среднего работает хорошо или плохо?\n",
    "**Ваш ответ:**"
   ]
  },
  {
   "cell_type": "code",
   "execution_count": null,
   "metadata": {
    "id": "1BEsK495KIuM"
   },
   "outputs": [],
   "source": [
    "# Хорошо, есть выбросы, но большая часть под графиком распределения"
   ]
  },
  {
   "cell_type": "markdown",
   "metadata": {
    "id": "xEyWxfjSfxGp"
   },
   "source": [
    "## Доверительный интервал на основе ЦПТ\n",
    "Возьмите данные для оттока телеком компании, и постройте доверительные интервалы для среднего значения total day calls, используя центральную предельную теорему в разбиении по колонке churn (ушел/не ушел). \n",
    "\n",
    "Для оценки дисперсии используйте несмещенную оценку (параметр ddof=1).\n",
    "\n",
    "Сделайте оценку с использованием явной формулы для z интервала, а затем с помощью функций \n",
    "`from statsmodels.stats.weightstats import _zconfint_generic`. Сравните результаты.\n",
    "\n",
    "\n",
    "Ссылка на данные: https://drive.google.com/file/d/1X_drKqoarnU2Sz2har7uSCsgyhh8Xtz8/view?usp=sharing"
   ]
  },
  {
   "cell_type": "code",
   "execution_count": 2,
   "metadata": {
    "id": "56V0za8GfxeL"
   },
   "outputs": [],
   "source": [
    "df = pd.read_csv('telecom_churn.csv', sep=',')"
   ]
  },
  {
   "cell_type": "code",
   "execution_count": 3,
   "metadata": {},
   "outputs": [],
   "source": [
    "# Выборка 1 - клиенты, которые не ушли\n",
    "sample_1 = df[df['churn'] == False]['total day calls']\n",
    "sample_1 = sample_1.reset_index(drop=True)\n",
    "\n",
    "# Выборка 2 - клиенты, которые ушли\n",
    "sample_2 = df[df['churn'] == True]['total day calls']\n",
    "sample_2 = sample_2.reset_index(drop=True)"
   ]
  },
  {
   "cell_type": "markdown",
   "metadata": {},
   "source": [
    "# оценка ДИ среднего значения с использованием явной формулы для z интервала"
   ]
  },
  {
   "cell_type": "code",
   "execution_count": 7,
   "metadata": {},
   "outputs": [
    {
     "name": "stdout",
     "output_type": "stream",
     "text": [
      "Доверительные интервалы по Sample-1:\n",
      "95%: 99.55 - 101.02\n",
      "90%: 99.67 - 100.9\n",
      "75%: 99.85 - 100.72\n",
      "Доверительные интервалы по Sample-2:\n",
      "95%: 99.55 - 103.13\n",
      "90%: 99.84 - 102.83\n",
      "75%: 100.29 - 102.39\n"
     ]
    }
   ],
   "source": [
    "# матожидание по генеральной совокупности\n",
    "mu = df['total day calls'].mean()\n",
    "# дисперсия по генеральной совокупности\n",
    "sigma = df['total day calls'].std()\n",
    "# z-критерии для для разных уровней знчимости:\n",
    "z_crit = {'95%': 1.96, '90%': 1.64, '75%': 1.15}\n",
    "\n",
    "N = {'Sample-1': sample_1, 'Sample-2': sample_2}\n",
    "\n",
    "for key in N:\n",
    "    print(f'Доверительные интервалы по {key}:')\n",
    "    for alpha in z_crit:\n",
    "        lower = round(N[key].mean() - z_crit[alpha] * (sigma / np.sqrt(len(N[key]))), 2)\n",
    "        upper = round(N[key].mean() + z_crit[alpha] * (sigma / np.sqrt(len(N[key]))), 2)\n",
    "        print(f'{alpha}: {lower} - {upper}')"
   ]
  },
  {
   "cell_type": "markdown",
   "metadata": {},
   "source": [
    "# оценка ДИ значения признака с использованием _zconfint_generic"
   ]
  },
  {
   "cell_type": "code",
   "execution_count": 8,
   "metadata": {},
   "outputs": [
    {
     "data": {
      "text/plain": [
       "('Доверительные интервалы по Sample-1:',\n",
       " (61.47360341697314, 139.09271237250056),\n",
       " (67.71315306472421, 132.8531627247495),\n",
       " (77.5049092644993, 123.06140652497439),\n",
       " 'Доверительные интервалы по Sample-2:',\n",
       " (59.03485888580106, 143.63594856761512),\n",
       " (65.83566742929992, 136.83514002411624),\n",
       " (76.50820999706202, 126.16259745635413))"
      ]
     },
     "execution_count": 8,
     "metadata": {},
     "output_type": "execute_result"
    }
   ],
   "source": [
    "# Результат работы функции выше - доверительный интервал для значения признака генеральной совокупности,\n",
    "# а не для среднего значения признака. Как этой функцией вывести ДИ для среднего значения не разобрался.\n",
    "# Предполагается, что нужно сгенерировать серию средних значений по ряду выборок?\n",
    "\n",
    "f'Доверительные интервалы по Sample-1:',\\\n",
    "_zconfint_generic(sample_1.mean(), sample_1.std(), 0.05, alternative='two-sided'),\\\n",
    "_zconfint_generic(sample_1.mean(), sample_1.std(), 0.1, alternative='two-sided'),\\\n",
    "_zconfint_generic(sample_1.mean(), sample_1.std(), 0.25, alternative='two-sided'),\\\n",
    "f'Доверительные интервалы по Sample-2:',\\\n",
    "_zconfint_generic(sample_2.mean(), sample_2.std(), 0.05, alternative='two-sided'),\\\n",
    "_zconfint_generic(sample_2.mean(), sample_2.std(), 0.1, alternative='two-sided'),\\\n",
    "_zconfint_generic(sample_2.mean(), sample_2.std(), 0.25, alternative='two-sided')"
   ]
  },
  {
   "cell_type": "code",
   "execution_count": 9,
   "metadata": {},
   "outputs": [
    {
     "data": {
      "image/png": "[encoded data removed]",
      "text/plain": [
       "<Figure size 432x288 with 1 Axes>"
      ]
     },
     "metadata": {
      "needs_background": "light"
     },
     "output_type": "display_data"
    }
   ],
   "source": [
    "norm_rv = sts.norm(sample_1.mean(), sample_1.std())\n",
    "x = np.linspace(40, 160, len(sample_1))\n",
    "pdf = norm_rv.pdf(x)\n",
    "plt.plot(x, pdf)\n",
    "alpha = 0.05\n",
    "q_a = norm_rv.ppf(alpha/2)\n",
    "q_b = norm_rv.ppf(1-alpha/2)\n",
    "to_fill = np.linspace(q_a, q_b, 100)\n",
    "plt.fill_between(to_fill, norm_rv.pdf(to_fill), color='green')\n",
    "plt.show()"
   ]
  }
 ],
 "metadata": {
  "colab": {
   "collapsed_sections": [],
   "name": "Практика к занятию 12.ipynb",
   "provenance": []
  },
  "kernelspec": {
   "display_name": "Python 3",
   "language": "python",
   "name": "python3"
  },
  "language_info": {
   "codemirror_mode": {
    "name": "ipython",
    "version": 3
   },
   "file_extension": ".py",
   "mimetype": "text/x-python",
   "name": "python",
   "nbconvert_exporter": "python",
   "pygments_lexer": "ipython3",
   "version": "3.8.8"
  }
 },
 "nbformat": 4,
 "nbformat_minor": 1
}
